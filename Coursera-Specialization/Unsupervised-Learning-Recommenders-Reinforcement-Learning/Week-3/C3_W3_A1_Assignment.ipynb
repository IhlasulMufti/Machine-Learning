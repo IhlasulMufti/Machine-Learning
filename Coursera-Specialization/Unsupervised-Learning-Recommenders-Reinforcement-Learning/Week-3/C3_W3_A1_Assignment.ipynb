{
 "cells": [
  {
   "cell_type": "markdown",
   "metadata": {},
   "source": [
    "# Deep Q-Learning - Lunar Lander\n",
    "\n",
    "In this assignment, you will train an agent to land a lunar lander safely on a landing pad on the surface of the moon.\n",
    "\n",
    "\n",
    "# Outline\n",
    "- [ 1 - Import Packages <img align=\"Right\" src=\"./images/lunar_lander.gif\" width = 60% >](#1)\n",
    "- [ 2 - Hyperparameters](#2)\n",
    "- [ 3 - The Lunar Lander Environment](#3)\n",
    "  - [ 3.1 Action Space](#3.1)\n",
    "  - [ 3.2 Observation Space](#3.2)\n",
    "  - [ 3.3 Rewards](#3.3)\n",
    "  - [ 3.4 Episode Termination](#3.4)\n",
    "- [ 4 - Load the Environment](#4)\n",
    "- [ 5 - Interacting with the Gym Environment](#5)\n",
    "    - [ 5.1 Exploring the Environment's Dynamics](#5.1)\n",
    "- [ 6 - Deep Q-Learning](#6)\n",
    "  - [ 6.1 Target Network](#6.1)\n",
    "    - [ Exercise 1](#ex01)\n",
    "  - [ 6.2 Experience Replay](#6.2)\n",
    "- [ 7 - Deep Q-Learning Algorithm with Experience Replay](#7)\n",
    "  - [ Exercise 2](#ex02)\n",
    "- [ 8 - Update the Network Weights](#8)\n",
    "- [ 9 - Train the Agent](#9)\n",
    "- [ 10 - See the Trained Agent In Action](#10)\n",
    "- [ 11 - Congratulations!](#11)\n",
    "- [ 12 - References](#12)\n"
   ]
  },
  {
   "cell_type": "markdown",
   "metadata": {},
   "source": [
    "_**NOTE:** To prevent errors from the autograder, you are not allowed to edit or delete non-graded cells in this lab. Please also refrain from adding any new cells. \n",
    "**Once you have passed this assignment** and want to experiment with any of the non-graded code, you may follow the instructions at the bottom of this notebook._"
   ]
  },
  {
   "cell_type": "markdown",
   "metadata": {},
   "source": [
    "<a name=\"1\"></a>\n",
    "## 1 - Import Packages\n",
    "\n",
    "We'll make use of the following packages:\n",
    "- `numpy` is a package for scientific computing in python.\n",
    "- `deque` will be our data structure for our memory buffer.\n",
    "- `namedtuple` will be used to store the experience tuples.\n",
    "- The `gym` toolkit is a collection of environments that can be used to test reinforcement learning algorithms. We should note that in this notebook we are using `gym` version `0.24.0`.\n",
    "- `PIL.Image` and `pyvirtualdisplay` are needed to render the Lunar Lander environment.\n",
    "- We will use several modules from the `tensorflow.keras` framework for building deep learning models.\n",
    "- `utils` is a module that contains helper functions for this assignment. You do not need to modify the code in this file.\n",
    "\n",
    "Run the cell below to import all the necessary packages."
   ]
  },
  {
   "cell_type": "code",
   "execution_count": 1,
   "metadata": {
    "deletable": false,
    "editable": false,
    "id": "KYbOPKRtfQOr"
   },
   "outputs": [],
   "source": [
    "import time\n",
    "from collections import deque, namedtuple\n",
    "\n",
    "import gym\n",
    "import numpy as np\n",
    "import PIL.Image\n",
    "import tensorflow as tf\n",
    "import utils\n",
    "\n",
    "from pyvirtualdisplay import Display\n",
    "from tensorflow.keras import Sequential\n",
    "from tensorflow.keras.layers import Dense, Input\n",
    "from tensorflow.keras.losses import MSE\n",
    "from tensorflow.keras.optimizers import Adam"
   ]
  },
  {
   "cell_type": "code",
   "execution_count": 2,
   "metadata": {
    "deletable": false,
    "editable": false
   },
   "outputs": [],
   "source": [
    "# Set up a virtual display to render the Lunar Lander environment.\n",
    "Display(visible=0, size=(840, 480)).start();\n",
    "\n",
    "# Set the random seed for TensorFlow\n",
    "tf.random.set_seed(utils.SEED)"
   ]
  },
  {
   "cell_type": "markdown",
   "metadata": {},
   "source": [
    "<a name=\"2\"></a>\n",
    "## 2 - Hyperparameters\n",
    "\n",
    "Run the cell below to set the hyperparameters."
   ]
  },
  {
   "cell_type": "code",
   "execution_count": 3,
   "metadata": {
    "deletable": false,
    "editable": false
   },
   "outputs": [],
   "source": [
    "MEMORY_SIZE = 100_000     # size of memory buffer\n",
    "GAMMA = 0.995             # discount factor\n",
    "ALPHA = 1e-3              # learning rate  \n",
    "NUM_STEPS_FOR_UPDATE = 4  # perform a learning update every C time steps"
   ]
  },
  {
   "cell_type": "markdown",
   "metadata": {},
   "source": [
    "<a name=\"3\"></a>\n",
    "## 3 - The Lunar Lander Environment\n",
    "\n",
    "In this notebook we will be using [OpenAI's Gym Library](https://www.gymlibrary.dev/). The Gym library provides a wide variety of environments for reinforcement learning. To put it simply, an environment represents a problem or task to be solved. In this notebook, we will try to solve the Lunar Lander environment using reinforcement learning.\n",
    "\n",
    "The goal of the Lunar Lander environment is to land the lunar lander safely on the landing pad on the surface of the moon. The landing pad is designated by two flag poles and its center is at coordinates `(0,0)` but the lander is also allowed to land outside of the landing pad. The lander starts at the top center of the environment with a random initial force applied to its center of mass and has infinite fuel. The environment is considered solved if you get `200` points. \n",
    "\n",
    "<br>\n",
    "<br>\n",
    "<figure>\n",
    "  <img src = \"images/lunar_lander.gif\" width = 40%>\n",
    "      <figcaption style = \"text-align: center; font-style: italic\">Fig 1. Lunar Lander Environment.</figcaption>\n",
    "</figure>\n",
    "\n",
    "\n",
    "\n",
    "<a name=\"3.1\"></a>\n",
    "### 3.1 Action Space\n",
    "\n",
    "The agent has four discrete actions available:\n",
    "\n",
    "* Do nothing.\n",
    "* Fire right engine.\n",
    "* Fire main engine.\n",
    "* Fire left engine.\n",
    "\n",
    "Each action has a corresponding numerical value:\n",
    "\n",
    "```python\n",
    "Do nothing = 0\n",
    "Fire right engine = 1\n",
    "Fire main engine = 2\n",
    "Fire left engine = 3\n",
    "```\n",
    "\n",
    "<a name=\"3.2\"></a>\n",
    "### 3.2 Observation Space\n",
    "\n",
    "The agent's observation space consists of a state vector with 8 variables:\n",
    "\n",
    "* Its $(x,y)$ coordinates. The landing pad is always at coordinates $(0,0)$.\n",
    "* Its linear velocities $(\\dot x,\\dot y)$.\n",
    "* Its angle $\\theta$.\n",
    "* Its angular velocity $\\dot \\theta$.\n",
    "* Two booleans, $l$ and $r$, that represent whether each leg is in contact with the ground or not.\n",
    "\n",
    "<a name=\"3.3\"></a>\n",
    "### 3.3 Rewards\n",
    "\n",
    "After every step, a reward is granted. The total reward of an episode is the sum of the rewards for all the steps within that episode.\n",
    "\n",
    "For each step, the reward:\n",
    "- is increased/decreased the closer/further the lander is to the landing pad.\n",
    "- is increased/decreased the slower/faster the lander is moving.\n",
    "- is decreased the more the lander is tilted (angle not horizontal).\n",
    "- is increased by 10 points for each leg that is in contact with the ground.\n",
    "- is decreased by 0.03 points each frame a side engine is firing.\n",
    "- is decreased by 0.3 points each frame the main engine is firing.\n",
    "\n",
    "The episode receive an additional reward of -100 or +100 points for crashing or landing safely respectively.\n",
    "\n",
    "<a name=\"3.4\"></a>\n",
    "### 3.4 Episode Termination\n",
    "\n",
    "An episode ends (i.e the environment enters a terminal state) if:\n",
    "\n",
    "* The lunar lander crashes (i.e if the body of the lunar lander comes in contact with the surface of the moon).\n",
    "\n",
    "* The absolute value of the lander's $x$-coordinate is greater than 1 (i.e. it goes beyond the left or right border)\n",
    "\n",
    "You can check out the [Open AI Gym documentation](https://www.gymlibrary.dev/environments/box2d/lunar_lander/) for a full description of the environment. "
   ]
  },
  {
   "cell_type": "markdown",
   "metadata": {},
   "source": [
    "<a name=\"4\"></a>\n",
    "## 4 - Load the Environment\n",
    "\n",
    "We start by loading the `LunarLander-v2` environment from the `gym` library by using the `.make()` method. `LunarLander-v2` is the latest version of the Lunar Lander environment and you can read about its version history in the [Open AI Gym documentation](https://www.gymlibrary.dev/environments/box2d/lunar_lander/#version-history)."
   ]
  },
  {
   "cell_type": "code",
   "execution_count": 4,
   "metadata": {
    "deletable": false,
    "editable": false,
    "id": "ILVMYKewfR0n"
   },
   "outputs": [],
   "source": [
    "env = gym.make('LunarLander-v2')"
   ]
  },
  {
   "cell_type": "markdown",
   "metadata": {},
   "source": [
    "Once we load the environment we use the `.reset()` method to reset the environment to the initial state. The lander starts at the top center of the environment and we can render the first frame of the environment by using the `.render()` method."
   ]
  },
  {
   "cell_type": "code",
   "execution_count": 7,
   "metadata": {
    "deletable": false,
    "editable": false
   },
   "outputs": [
    {
     "data": {
      "image/png": "[encoded data removed]",
      "text/plain": [
       "<PIL.Image.Image image mode=RGB size=600x400 at 0x7F94707E05D0>"
      ]
     },
     "execution_count": 7,
     "metadata": {},
     "output_type": "execute_result"
    }
   ],
   "source": [
    "env.reset()\n",
    "PIL.Image.fromarray(env.render(mode='rgb_array'))"
   ]
  },
  {
   "cell_type": "markdown",
   "metadata": {},
   "source": [
    "In order to build our neural network later on we need to know the size of the state vector and the number of valid actions. We can get this information from our environment by using the `.observation_space.shape` and `action_space.n` methods, respectively."
   ]
  },
  {
   "cell_type": "code",
   "execution_count": 8,
   "metadata": {
    "deletable": false,
    "editable": false,
    "id": "x3fdqdG4CUu2"
   },
   "outputs": [
    {
     "name": "stdout",
     "output_type": "stream",
     "text": [
      "State Shape: (8,)\n",
      "Number of actions: 4\n"
     ]
    }
   ],
   "source": [
    "state_size = env.observation_space.shape\n",
    "num_actions = env.action_space.n\n",
    "\n",
    "print('State Shape:', state_size)\n",
    "print('Number of actions:', num_actions)"
   ]
  },
  {
   "cell_type": "markdown",
   "metadata": {},
   "source": [
    "<a name=\"5\"></a>\n",
    "## 5 - Interacting with the Gym Environment\n",
    "\n",
    "The Gym library implements the standard “agent-environment loop” formalism:\n",
    "\n",
    "<br>\n",
    "<center>\n",
    "<video src = \"./videos/rl_formalism.m4v\" width=\"840\" height=\"480\" controls autoplay loop poster=\"./images/rl_formalism.png\"> </video>\n",
    "<figcaption style = \"text-align:center; font-style:italic\">Fig 2. Agent-environment Loop Formalism.</figcaption>\n",
    "</center>\n",
    "<br>\n",
    "\n",
    "In the standard “agent-environment loop” formalism, an agent interacts with the environment in discrete time steps $t=0,1,2,...$. At each time step $t$, the agent uses a policy $\\pi$ to select an action $A_t$ based on its observation of the environment's state $S_t$. The agent receives a numerical reward $R_t$ and on the next time step, moves to a new state $S_{t+1}$.\n",
    "\n",
    "<a name=\"5.1\"></a>\n",
    "### 5.1 Exploring the Environment's Dynamics\n",
    "\n",
    "In Open AI's Gym environments, we use the `.step()` method to run a single time step of the environment's dynamics. In the version of `gym` that we are using the `.step()` method accepts an action and returns four values:\n",
    "\n",
    "* `observation` (**object**): an environment-specific object representing your observation of the environment. In the Lunar Lander environment this corresponds to a numpy array containing the positions and velocities of the lander as described in section [3.2 Observation Space](#3.2).\n",
    "\n",
    "\n",
    "* `reward` (**float**): amount of reward returned as a result of taking the given action. In the Lunar Lander environment this corresponds to a float of type `numpy.float64` as described in section [3.3 Rewards](#3.3).\n",
    "\n",
    "\n",
    "* `done` (**boolean**): When done is `True`, it indicates the episode has terminated and it’s time to reset the environment. \n",
    "\n",
    "\n",
    "* `info` (**dictionary**): diagnostic information useful for debugging. We won't be using this variable in this notebook but it is shown here for completeness.\n",
    "\n",
    "To begin an episode, we need to reset the environment to an initial state. We do this by using the `.reset()` method. "
   ]
  },
  {
   "cell_type": "code",
   "execution_count": 9,
   "metadata": {
    "deletable": false,
    "editable": false
   },
   "outputs": [],
   "source": [
    "# Reset the environment and get the initial state.\n",
    "initial_state = env.reset()"
   ]
  },
  {
   "cell_type": "markdown",
   "metadata": {},
   "source": [
    "Once the environment is reset, the agent can start taking actions in the environment by using the `.step()` method. Note that the agent can only take one action per time step. \n",
    "\n",
    "In the cell below you can select different actions and see how the returned values change depending on the action taken. Remember that in this environment the agent has four discrete actions available and we specify them in code by using their corresponding numerical value:\n",
    "\n",
    "```python\n",
    "Do nothing = 0\n",
    "Fire right engine = 1\n",
    "Fire main engine = 2\n",
    "Fire left engine = 3\n",
    "```"
   ]
  },
  {
   "cell_type": "code",
   "execution_count": 10,
   "metadata": {
    "deletable": false
   },
   "outputs": [
    {
     "data": {
      "text/html": [
       "<table class=\"simpletable\">\n",
       "<tr>\n",
       "  <th>Initial State:</th>      <td>[-0.008 1.419 -0.785 0.364 0.009 0.178 0.000 0.000]</td>\n",
       "</tr>\n",
       "<tr>\n",
       "  <th>Action:</th>                                 <td>Do nothing</td>                     \n",
       "</tr>\n",
       "<tr>\n",
       "  <th>Next State:</th>         <td>[-0.015 1.427 -0.784 0.339 0.018 0.176 0.000 0.000]</td>\n",
       "</tr>\n",
       "<tr>\n",
       "  <th>Reward Received:</th>                          <td>-0.498</td>                       \n",
       "</tr>\n",
       "<tr>\n",
       "  <th>Episode Terminated:</th>                        <td>False</td>                       \n",
       "</tr>\n",
       "</table>"
      ],
      "text/plain": [
       "<class 'statsmodels.iolib.table.SimpleTable'>"
      ]
     },
     "execution_count": 10,
     "metadata": {},
     "output_type": "execute_result"
    }
   ],
   "source": [
    "# Select an action\n",
    "action = 0\n",
    "\n",
    "# Run a single time step of the environment's dynamics with the given action.\n",
    "next_state, reward, done, _ = env.step(action)\n",
    "\n",
    "# Display table with values. All values are displayed to 3 decimal places.\n",
    "utils.display_table(initial_state, action, next_state, reward, done)"
   ]
  },
  {
   "cell_type": "markdown",
   "metadata": {},
   "source": [
    "In practice, when we train the agent we use a loop to allow the agent to take many consecutive actions during an episode."
   ]
  },
  {
   "cell_type": "markdown",
   "metadata": {},
   "source": [
    "<a name=\"6\"></a>\n",
    "## 6 - Deep Q-Learning\n",
    "\n",
    "In cases where both the state and action space are discrete we can estimate the action-value function iteratively by using the Bellman equation:\n",
    "\n",
    "$$\n",
    "Q_{i+1}(s,a) = R + \\gamma \\max_{a'}Q_i(s',a')\n",
    "$$\n",
    "\n",
    "This iterative method converges to the optimal action-value function $Q^*(s,a)$ as $i\\to\\infty$. This means that the agent just needs to gradually explore the state-action space and keep updating the estimate of $Q(s,a)$ until it converges to the optimal action-value function $Q^*(s,a)$. However, in cases where the state space is continuous it becomes practically impossible to explore the entire state-action space. Consequently, this also makes it practically impossible to gradually estimate $Q(s,a)$ until it converges to $Q^*(s,a)$.\n",
    "\n",
    "In the Deep $Q$-Learning, we solve this problem by using a neural network to estimate the action-value function $Q(s,a)\\approx Q^*(s,a)$. We call this neural network a $Q$-Network and it can be trained by adjusting its weights at each iteration to minimize the mean-squared error in the Bellman equation.\n",
    "\n",
    "Unfortunately, using neural networks in reinforcement learning to estimate action-value functions has proven to be highly unstable. Luckily, there's a couple of techniques that can be employed to avoid instabilities. These techniques consist of using a ***Target Network*** and ***Experience Replay***. We will explore these two techniques in the following sections."
   ]
  },
  {
   "cell_type": "markdown",
   "metadata": {},
   "source": [
    "<a name=\"6.1\"></a>\n",
    "### 6.1 Target Network\n",
    "\n",
    "We can train the $Q$-Network by adjusting it's weights at each iteration to minimize the mean-squared error in the Bellman equation, where the target values are given by:\n",
    "\n",
    "$$\n",
    "y = R + \\gamma \\max_{a'}Q(s',a';w)\n",
    "$$\n",
    "\n",
    "where $w$ are the weights of the $Q$-Network. This means that we are adjusting the weights $w$ at each iteration to minimize the following error:\n",
    "\n",
    "$$\n",
    "\\overbrace{\\underbrace{R + \\gamma \\max_{a'}Q(s',a'; w)}_{\\rm {y~target}} - Q(s,a;w)}^{\\rm {Error}}\n",
    "$$\n",
    "\n",
    "Notice that this forms a problem because the $y$ target is changing on every iteration. Having a constantly moving target can lead to oscillations and instabilities. To avoid this, we can create\n",
    "a separate neural network for generating the $y$ targets. We call this separate neural network the **target $\\hat Q$-Network** and it will have the same architecture as the original $Q$-Network. By using the target $\\hat Q$-Network, the above error becomes:\n",
    "\n",
    "$$\n",
    "\\overbrace{\\underbrace{R + \\gamma \\max_{a'}\\hat{Q}(s',a'; w^-)}_{\\rm {y~target}} - Q(s,a;w)}^{\\rm {Error}}\n",
    "$$\n",
    "\n",
    "where $w^-$ and $w$ are the weights of the target $\\hat Q$-Network and $Q$-Network, respectively.\n",
    "\n",
    "In practice, we will use the following algorithm: every $C$ time steps we will use the $\\hat Q$-Network to generate the $y$ targets and update the weights of the target $\\hat Q$-Network using the weights of the $Q$-Network. We will update the weights $w^-$ of the the target $\\hat Q$-Network using a **soft update**. This means that we will update the weights $w^-$ using the following rule:\n",
    " \n",
    "$$\n",
    "w^-\\leftarrow \\tau w + (1 - \\tau) w^-\n",
    "$$\n",
    "\n",
    "where $\\tau\\ll 1$. By using the soft update, we are ensuring that the target values, $y$, change slowly, which greatly improves the stability of our learning algorithm."
   ]
  },
  {
   "cell_type": "markdown",
   "metadata": {},
   "source": [
    "<a name=\"ex01\"></a>\n",
    "### Exercise 1\n",
    "\n",
    "In this exercise you will create the $Q$ and target $\\hat Q$ networks and set the optimizer. Remember that the Deep $Q$-Network (DQN) is a neural network that approximates the action-value function $Q(s,a)\\approx Q^*(s,a)$. It does this by learning how to map states to $Q$ values.\n",
    "\n",
    "To solve the Lunar Lander environment, we are going to employ a DQN with the following architecture:\n",
    "\n",
    "* An `Input` layer that takes `state_size` as input.\n",
    "\n",
    "* A `Dense` layer with `64` units and a `relu` activation function.\n",
    "\n",
    "* A `Dense` layer with `64` units and a `relu` activation function.\n",
    "\n",
    "* A `Dense` layer with `num_actions` units and a `linear` activation function. This will be the output layer of our network.\n",
    "\n",
    "\n",
    "In the cell below you should create the $Q$-Network and the target $\\hat Q$-Network using the model architecture described above. Remember that both the $Q$-Network and the target $\\hat Q$-Network have the same architecture.\n",
    "\n",
    "Lastly, you should set `Adam` as the optimizer with a learning rate equal to `ALPHA`. Recall that `ALPHA` was defined in the [Hyperparameters](#2) section. We should note that for this exercise you should use the already imported packages:\n",
    "```python\n",
    "from tensorflow.keras.layers import Dense, Input\n",
    "from tensorflow.keras.optimizers import Adam\n",
    "```"
   ]
  },
  {
   "cell_type": "code",
   "execution_count": 11,
   "metadata": {
    "deletable": false
   },
   "outputs": [],
   "source": [
    "# UNQ_C1\n",
    "# GRADED CELL\n",
    "\n",
    "# Create the Q-Network\n",
    "q_network = Sequential([\n",
    "    ### START CODE HERE ### \n",
    "    Input(shape=(state_size)),\n",
    "    Dense(units=64, activation='relu'),\n",
    "    Dense(units=64, activation='relu'),\n",
    "    Dense(units=num_actions)\n",
    "    \n",
    "    ### END CODE HERE ### \n",
    "    ])\n",
    "\n",
    "# Create the target Q^-Network\n",
    "target_q_network = Sequential([\n",
    "    ### START CODE HERE ### \n",
    "    Input(shape=(state_size)),\n",
    "    Dense(units=64, activation='relu'),\n",
    "    Dense(units=64, activation='relu'),\n",
    "    Dense(units=num_actions)\n",
    "\n",
    "    ### END CODE HERE ###\n",
    "    ])\n",
    "\n",
    "### START CODE HERE ### \n",
    "optimizer = Adam(0.001)\n",
    "### END CODE HERE ###"
   ]
  },
  {
   "cell_type": "code",
   "execution_count": 12,
   "metadata": {
    "deletable": false,
    "editable": false
   },
   "outputs": [
    {
     "name": "stdout",
     "output_type": "stream",
     "text": [
      "\u001b[92mAll tests passed!\n",
      "\u001b[92mAll tests passed!\n",
      "\u001b[92mAll tests passed!\n"
     ]
    }
   ],
   "source": [
    "# UNIT TEST\n",
    "from public_tests import *\n",
    "\n",
    "test_network(q_network)\n",
    "test_network(target_q_network)\n",
    "test_optimizer(optimizer, ALPHA) "
   ]
  },
  {
   "cell_type": "markdown",
   "metadata": {},
   "source": [
    "<details>\n",
    "  <summary><font size=\"3\" color=\"darkgreen\"><b>Click for hints</b></font></summary>\n",
    "    \n",
    "```python\n",
    "# Create the Q-Network\n",
    "q_network = Sequential([\n",
    "    Input(shape=state_size),                      \n",
    "    Dense(units=64, activation='relu'),            \n",
    "    Dense(units=64, activation='relu'),            \n",
    "    Dense(units=num_actions, activation='linear'),\n",
    "    ])\n",
    "\n",
    "# Create the target Q^-Network\n",
    "target_q_network = Sequential([\n",
    "    Input(shape=state_size),                       \n",
    "    Dense(units=64, activation='relu'),            \n",
    "    Dense(units=64, activation='relu'),            \n",
    "    Dense(units=num_actions, activation='linear'), \n",
    "    ])\n",
    "\n",
    "optimizer = Adam(learning_rate=ALPHA)                                  \n",
    "``` "
   ]
  },
  {
   "cell_type": "markdown",
   "metadata": {},
   "source": [
    "<a name=\"6.2\"></a>\n",
    "### 6.2 Experience Replay\n",
    "\n",
    "When an agent interacts with the environment, the states, actions, and rewards the agent experiences are sequential by nature. If the agent tries to learn from these consecutive experiences it can run into problems due to the strong correlations between them. To avoid this, we employ a technique known as **Experience Replay** to generate uncorrelated experiences for training our agent. Experience replay consists of storing the agent's experiences (i.e the states, actions, and rewards the agent receives) in a memory buffer and then sampling a random mini-batch of experiences from the buffer to do the learning. The experience tuples $(S_t, A_t, R_t, S_{t+1})$ will be added to the memory buffer at each time step as the agent interacts with the environment.\n",
    "\n",
    "For convenience, we will store the experiences as named tuples."
   ]
  },
  {
   "cell_type": "code",
   "execution_count": 13,
   "metadata": {
    "deletable": false,
    "editable": false
   },
   "outputs": [],
   "source": [
    "# Store experiences as named tuples\n",
    "experience = namedtuple(\"Experience\", field_names=[\"state\", \"action\", \"reward\", \"next_state\", \"done\"])"
   ]
  },
  {
   "cell_type": "markdown",
   "metadata": {},
   "source": [
    "By using experience replay we avoid problematic correlations, oscillations and instabilities. In addition, experience replay also allows the agent to potentially use the same experience in multiple weight updates, which increases data efficiency."
   ]
  },
  {
   "cell_type": "markdown",
   "metadata": {},
   "source": [
    "<a name=\"7\"></a>\n",
    "## 7 - Deep Q-Learning Algorithm with Experience Replay\n",
    "\n",
    "Now that we know all the techniques that we are going to use, we can put them together to arrive at the Deep Q-Learning Algorithm With Experience Replay.\n",
    "<br>\n",
    "<br>\n",
    "<figure>\n",
    "  <img src = \"images/deep_q_algorithm.png\" width = 90% style = \"border: thin silver solid; padding: 0px\">\n",
    "      <figcaption style = \"text-align: center; font-style: italic\">Fig 3. Deep Q-Learning with Experience Replay.</figcaption>\n",
    "</figure>"
   ]
  },
  {
   "cell_type": "markdown",
   "metadata": {},
   "source": [
    "<a name=\"ex02\"></a>\n",
    "### Exercise 2\n",
    "\n",
    "In this exercise you will implement line ***12*** of the algorithm outlined in *Fig 3* above and you will also compute the loss between the $y$ targets and the $Q(s,a)$ values. In the cell below, complete the `compute_loss` function by setting the $y$ targets equal to:\n",
    "\n",
    "$$\n",
    "\\begin{equation}\n",
    "    y_j =\n",
    "    \\begin{cases}\n",
    "      R_j & \\text{if episode terminates at step  } j+1\\\\\n",
    "      R_j + \\gamma \\max_{a'}\\hat{Q}(s_{j+1},a') & \\text{otherwise}\\\\\n",
    "    \\end{cases}       \n",
    "\\end{equation}\n",
    "$$\n",
    "\n",
    "Here are a couple of things to note:\n",
    "\n",
    "* The `compute_loss` function takes in a mini-batch of experience tuples. This mini-batch of experience tuples is unpacked to extract the `states`, `actions`, `rewards`, `next_states`, and `done_vals`. You should keep in mind that these variables are *TensorFlow Tensors* whose size will depend on the mini-batch size. For example, if the mini-batch size is `64` then both `rewards` and `done_vals` will be TensorFlow Tensors with `64` elements.\n",
    "\n",
    "\n",
    "* Using `if/else` statements to set the $y$ targets will not work when the variables are tensors with many elements. However, notice that you can use the `done_vals` to implement the above in a single line of code. To do this, recall that the `done` variable is a Boolean variable that takes the value `True` when an episode terminates at step $j+1$ and it is `False` otherwise. Taking into account that a Boolean value of `True` has the numerical value of `1` and a Boolean value of `False` has the numerical value of `0`, you can use the factor `(1 - done_vals)` to implement the above in a single line of code. Here's a hint: notice that `(1 - done_vals)` has a value of `0` when `done_vals` is `True` and a value of `1` when `done_vals` is `False`. \n",
    "\n",
    "Lastly, compute the loss by calculating the Mean-Squared Error (`MSE`) between the `y_targets` and the `q_values`. To calculate the mean-squared error you should use the already imported package `MSE`:\n",
    "```python\n",
    "from tensorflow.keras.losses import MSE\n",
    "```"
   ]
  },
  {
   "cell_type": "code",
   "execution_count": 14,
   "metadata": {
    "deletable": false
   },
   "outputs": [],
   "source": [
    "# UNQ_C2\n",
    "# GRADED FUNCTION: calculate_loss\n",
    "\n",
    "def compute_loss(experiences, gamma, q_network, target_q_network):\n",
    "    \"\"\" \n",
    "    Calculates the loss.\n",
    "    \n",
    "    Args:\n",
    "      experiences: (tuple) tuple of [\"state\", \"action\", \"reward\", \"next_state\", \"done\"] namedtuples\n",
    "      gamma: (float) The discount factor.\n",
    "      q_network: (tf.keras.Sequential) Keras model for predicting the q_values\n",
    "      target_q_network: (tf.keras.Sequential) Keras model for predicting the targets\n",
    "          \n",
    "    Returns:\n",
    "      loss: (TensorFlow Tensor(shape=(0,), dtype=int32)) the Mean-Squared Error between\n",
    "            the y targets and the Q(s,a) values.\n",
    "    \"\"\"\n",
    "\n",
    "    # Unpack the mini-batch of experience tuples\n",
    "    states, actions, rewards, next_states, done_vals = experiences\n",
    "    \n",
    "    # Compute max Q^(s,a)\n",
    "    max_qsa = tf.reduce_max(target_q_network(next_states), axis=-1)\n",
    "    \n",
    "    # Set y = R if episode terminates, otherwise set y = R + γ max Q^(s,a).\n",
    "    ### START CODE HERE ### \n",
    "    y_targets = rewards + (gamma * max_qsa * (1 - done_vals))\n",
    "    ### END CODE HERE ###\n",
    "    \n",
    "    # Get the q_values and reshape to match y_targets\n",
    "    q_values = q_network(states)\n",
    "    q_values = tf.gather_nd(q_values, tf.stack([tf.range(q_values.shape[0]),\n",
    "                                                tf.cast(actions, tf.int32)], axis=1))\n",
    "        \n",
    "    # Compute the loss\n",
    "    ### START CODE HERE ### \n",
    "    loss = MSE(y_targets, q_values) \n",
    "    ### END CODE HERE ### \n",
    "    \n",
    "    return loss"
   ]
  },
  {
   "cell_type": "code",
   "execution_count": 15,
   "metadata": {
    "deletable": false,
    "editable": false
   },
   "outputs": [
    {
     "name": "stdout",
     "output_type": "stream",
     "text": [
      "\u001b[92mAll tests passed!\n"
     ]
    }
   ],
   "source": [
    "# UNIT TEST    \n",
    "test_compute_loss(compute_loss)"
   ]
  },
  {
   "cell_type": "markdown",
   "metadata": {},
   "source": [
    "<details>\n",
    "  <summary><font size=\"3\" color=\"darkgreen\"><b>Click for hints</b></font></summary>\n",
    "    \n",
    "```python\n",
    "def compute_loss(experiences, gamma, q_network, target_q_network):\n",
    "    \"\"\" \n",
    "    Calculates the loss.\n",
    "    \n",
    "    Args:\n",
    "      experiences: (tuple) tuple of [\"state\", \"action\", \"reward\", \"next_state\", \"done\"] namedtuples\n",
    "      gamma: (float) The discount factor.\n",
    "      q_network: (tf.keras.Sequential) Keras model for predicting the q_values\n",
    "      target_q_network: (tf.keras.Sequential) Keras model for predicting the targets\n",
    "          \n",
    "    Returns:\n",
    "      loss: (TensorFlow Tensor(shape=(0,), dtype=int32)) the Mean-Squared Error between\n",
    "            the y targets and the Q(s,a) values.\n",
    "    \"\"\"\n",
    "\n",
    "    \n",
    "    # Unpack the mini-batch of experience tuples\n",
    "    states, actions, rewards, next_states, done_vals = experiences\n",
    "    \n",
    "    # Compute max Q^(s,a)\n",
    "    max_qsa = tf.reduce_max(target_q_network(next_states), axis=-1)\n",
    "    \n",
    "    # Set y = R if episode terminates, otherwise set y = R + γ max Q^(s,a).\n",
    "    y_targets = rewards + (gamma * max_qsa * (1 - done_vals))\n",
    "    \n",
    "    # Get the q_values\n",
    "    q_values = q_network(states)\n",
    "    q_values = tf.gather_nd(q_values, tf.stack([tf.range(q_values.shape[0]),\n",
    "                                                tf.cast(actions, tf.int32)], axis=1))\n",
    "    \n",
    "    # Calculate the loss\n",
    "    loss = MSE(y_targets, q_values)\n",
    "    \n",
    "    return loss\n",
    "\n",
    "``` \n",
    "    "
   ]
  },
  {
   "cell_type": "markdown",
   "metadata": {},
   "source": [
    "<a name=\"8\"></a>\n",
    "## 8 - Update the Network Weights\n",
    "\n",
    "We will use the `agent_learn` function below to implement lines ***12 -14*** of the algorithm outlined in [Fig 3](#7). The `agent_learn` function will update the weights of the $Q$ and target $\\hat Q$ networks using a custom training loop. Because we are using a custom training loop we need to retrieve the gradients via a `tf.GradientTape` instance, and then call `optimizer.apply_gradients()` to update the weights of our $Q$-Network. Note that we are also using the `@tf.function` decorator to increase performance. Without this decorator our training will take twice as long. If you would like to know more about how to increase performance with `@tf.function` take a look at the [TensorFlow documentation](https://www.tensorflow.org/guide/function).\n",
    "\n",
    "The last line of this function updates the weights of the target $\\hat Q$-Network using a [soft update](#6.1). If you want to know how this is implemented in code we encourage you to take a look at the `utils.update_target_network` function in the `utils` module."
   ]
  },
  {
   "cell_type": "code",
   "execution_count": 16,
   "metadata": {
    "deletable": false,
    "editable": false
   },
   "outputs": [],
   "source": [
    "@tf.function\n",
    "def agent_learn(experiences, gamma):\n",
    "    \"\"\"\n",
    "    Updates the weights of the Q networks.\n",
    "    \n",
    "    Args:\n",
    "      experiences: (tuple) tuple of [\"state\", \"action\", \"reward\", \"next_state\", \"done\"] namedtuples\n",
    "      gamma: (float) The discount factor.\n",
    "    \n",
    "    \"\"\"\n",
    "    \n",
    "    # Calculate the loss\n",
    "    with tf.GradientTape() as tape:\n",
    "        loss = compute_loss(experiences, gamma, q_network, target_q_network)\n",
    "\n",
    "    # Get the gradients of the loss with respect to the weights.\n",
    "    gradients = tape.gradient(loss, q_network.trainable_variables)\n",
    "    \n",
    "    # Update the weights of the q_network.\n",
    "    optimizer.apply_gradients(zip(gradients, q_network.trainable_variables))\n",
    "\n",
    "    # update the weights of target q_network\n",
    "    utils.update_target_network(q_network, target_q_network)"
   ]
  },
  {
   "cell_type": "markdown",
   "metadata": {},
   "source": [
    "<a name=\"9\"></a>\n",
    "## 9 - Train the Agent\n",
    "\n",
    "We are now ready to train our agent to solve the Lunar Lander environment. In the cell below we will implement the algorithm in [Fig 3](#7) line by line (please note that we have included the same algorithm below for easy reference. This will prevent you from scrolling up and down the notebook):\n",
    "\n",
    "* **Line 1**: We initialize the `memory_buffer` with a capacity of $N =$ `MEMORY_SIZE`. Notice that we are using a `deque` as the data structure for our `memory_buffer`.\n",
    "\n",
    "\n",
    "* **Line 2**: We skip this line since we already initialized the `q_network` in [Exercise 1](#ex01).\n",
    "\n",
    "\n",
    "* **Line 3**: We initialize the `target_q_network` by setting its weights to be equal to those of the `q_network`.\n",
    "\n",
    "\n",
    "* **Line 4**: We start the outer loop. Notice that we have set $M =$ `num_episodes = 2000`. This number is reasonable because the agent should be able to solve the Lunar Lander environment in less than `2000` episodes using this notebook's default parameters.\n",
    "\n",
    "\n",
    "* **Line 5**: We use the `.reset()` method to reset the environment to the initial state and get the initial state.\n",
    "\n",
    "\n",
    "* **Line 6**: We start the inner loop. Notice that we have set $T =$ `max_num_timesteps = 1000`. This means that the episode will automatically terminate if the episode hasn't terminated after `1000` time steps.\n",
    "\n",
    "\n",
    "* **Line 7**: The agent observes the current `state` and chooses an `action` using an $\\epsilon$-greedy policy. Our agent starts out using a value of $\\epsilon =$ `epsilon = 1` which yields an $\\epsilon$-greedy policy that is equivalent to the equiprobable random policy. This means that at the beginning of our training, the agent is just going to take random actions regardless of the observed `state`. As training progresses we will decrease the value of $\\epsilon$ slowly towards a minimum value using a given $\\epsilon$-decay rate. We want this minimum value to be close to zero because a value of $\\epsilon = 0$ will yield an $\\epsilon$-greedy policy that is equivalent to the greedy policy. This means that towards the end of training, the agent will lean towards selecting the `action` that it believes (based on its past experiences) will maximize $Q(s,a)$. We will set the minimum $\\epsilon$ value to be `0.01` and not exactly 0 because we always want to keep a little bit of exploration during training. If you want to know how this is implemented in code we encourage you to take a look at the `utils.get_action` function in the `utils` module.\n",
    "\n",
    "\n",
    "* **Line 8**: We use the `.step()` method to take the given `action` in the environment and get the `reward` and the `next_state`. \n",
    "\n",
    "\n",
    "* **Line 9**: We store the `experience(state, action, reward, next_state, done)` tuple in our `memory_buffer`. Notice that we also store the `done` variable so that we can keep track of when an episode terminates. This allowed us to set the $y$ targets in [Exercise 2](#ex02).\n",
    "\n",
    "\n",
    "* **Line 10**: We check if the conditions are met to perform a learning update. We do this by using our custom `utils.check_update_conditions` function. This function checks if $C =$ `NUM_STEPS_FOR_UPDATE = 4` time steps have occured and if our `memory_buffer` has enough experience tuples to fill a mini-batch. For example, if the mini-batch size is `64`, then our `memory_buffer` should have more than `64` experience tuples in order to pass the latter condition. If the conditions are met, then the `utils.check_update_conditions` function will return a value of `True`, otherwise it will return a value of `False`.\n",
    "\n",
    "\n",
    "* **Lines 11 - 14**: If the `update` variable is `True` then we perform a learning update. The learning update consists of sampling a random mini-batch of experience tuples from our `memory_buffer`, setting the $y$ targets, performing gradient descent, and updating the weights of the networks. We will use the `agent_learn` function we defined in [Section 8](#8) to perform the latter 3.\n",
    "\n",
    "\n",
    "* **Line 15**: At the end of each iteration of the inner loop we set `next_state` as our new `state` so that the loop can start again from this new state. In addition, we check if the episode has reached a terminal state (i.e we check if `done = True`). If a terminal state has been reached, then we break out of the inner loop.\n",
    "\n",
    "\n",
    "* **Line 16**: At the end of each iteration of the outer loop we update the value of $\\epsilon$, and check if the environment has been solved. We consider that the environment has been solved if the agent receives an average of `200` points in the last `100` episodes. If the environment has not been solved we continue the outer loop and start a new episode.\n",
    "\n",
    "Finally, we wanted to note that we have included some extra variables to keep track of the total number of points the agent received in each episode. This will help us determine if the agent has solved the environment and it will also allow us to see how our agent performed during training. We also use the `time` module to measure how long the training takes. \n",
    "\n",
    "<br>\n",
    "<br>\n",
    "<figure>\n",
    "  <img src = \"images/deep_q_algorithm.png\" width = 90% style = \"border: thin silver solid; padding: 0px\">\n",
    "      <figcaption style = \"text-align: center; font-style: italic\">Fig 4. Deep Q-Learning with Experience Replay.</figcaption>\n",
    "</figure>\n",
    "<br>\n",
    "\n",
    "**Note:** With this notebook's default parameters, the following cell takes between 10 to 15 minutes to run. "
   ]
  },
  {
   "cell_type": "code",
   "execution_count": 17,
   "metadata": {
    "deletable": false,
    "editable": false
   },
   "outputs": [
    {
     "name": "stdout",
     "output_type": "stream",
     "text": [
      "Episode 100 | Total point average of the last 100 episodes: -161.47\n",
      "Episode 200 | Total point average of the last 100 episodes: -68.213\n",
      "Episode 300 | Total point average of the last 100 episodes: -44.62\n",
      "Episode 400 | Total point average of the last 100 episodes: 92.722\n",
      "Episode 500 | Total point average of the last 100 episodes: 187.44\n",
      "Episode 600 | Total point average of the last 100 episodes: 176.07\n",
      "Episode 700 | Total point average of the last 100 episodes: 174.48\n",
      "Episode 720 | Total point average of the last 100 episodes: 202.44\n",
      "\n",
      "Environment solved in 720 episodes!\n",
      "\n",
      "Total Runtime: 942.40 s (15.71 min)\n"
     ]
    }
   ],
   "source": [
    "start = time.time()\n",
    "\n",
    "num_episodes = 2000\n",
    "max_num_timesteps = 1000\n",
    "\n",
    "total_point_history = []\n",
    "\n",
    "num_p_av = 100    # number of total points to use for averaging\n",
    "epsilon = 1.0     # initial ε value for ε-greedy policy\n",
    "\n",
    "# Create a memory buffer D with capacity N\n",
    "memory_buffer = deque(maxlen=MEMORY_SIZE)\n",
    "\n",
    "# Set the target network weights equal to the Q-Network weights\n",
    "target_q_network.set_weights(q_network.get_weights())\n",
    "\n",
    "for i in range(num_episodes):\n",
    "    \n",
    "    # Reset the environment to the initial state and get the initial state\n",
    "    state = env.reset()\n",
    "    total_points = 0\n",
    "    \n",
    "    for t in range(max_num_timesteps):\n",
    "        \n",
    "        # From the current state S choose an action A using an ε-greedy policy\n",
    "        state_qn = np.expand_dims(state, axis=0)  # state needs to be the right shape for the q_network\n",
    "        q_values = q_network(state_qn)\n",
    "        action = utils.get_action(q_values, epsilon)\n",
    "        \n",
    "        # Take action A and receive reward R and the next state S'\n",
    "        next_state, reward, done, _ = env.step(action)\n",
    "        \n",
    "        # Store experience tuple (S,A,R,S') in the memory buffer.\n",
    "        # We store the done variable as well for convenience.\n",
    "        memory_buffer.append(experience(state, action, reward, next_state, done))\n",
    "        \n",
    "        # Only update the network every NUM_STEPS_FOR_UPDATE time steps.\n",
    "        update = utils.check_update_conditions(t, NUM_STEPS_FOR_UPDATE, memory_buffer)\n",
    "        \n",
    "        if update:\n",
    "            # Sample random mini-batch of experience tuples (S,A,R,S') from D\n",
    "            experiences = utils.get_experiences(memory_buffer)\n",
    "            \n",
    "            # Set the y targets, perform a gradient descent step,\n",
    "            # and update the network weights.\n",
    "            agent_learn(experiences, GAMMA)\n",
    "        \n",
    "        state = next_state.copy()\n",
    "        total_points += reward\n",
    "        \n",
    "        if done:\n",
    "            break\n",
    "            \n",
    "    total_point_history.append(total_points)\n",
    "    av_latest_points = np.mean(total_point_history[-num_p_av:])\n",
    "    \n",
    "    # Update the ε value\n",
    "    epsilon = utils.get_new_eps(epsilon)\n",
    "\n",
    "    print(f\"\\rEpisode {i+1} | Total point average of the last {num_p_av} episodes: {av_latest_points:.2f}\", end=\"\")\n",
    "\n",
    "    if (i+1) % num_p_av == 0:\n",
    "        print(f\"\\rEpisode {i+1} | Total point average of the last {num_p_av} episodes: {av_latest_points:.2f}\")\n",
    "\n",
    "    # We will consider that the environment is solved if we get an\n",
    "    # average of 200 points in the last 100 episodes.\n",
    "    if av_latest_points >= 200.0:\n",
    "        print(f\"\\n\\nEnvironment solved in {i+1} episodes!\")\n",
    "        q_network.save('lunar_lander_model.h5')\n",
    "        break\n",
    "        \n",
    "tot_time = time.time() - start\n",
    "\n",
    "print(f\"\\nTotal Runtime: {tot_time:.2f} s ({(tot_time/60):.2f} min)\")"
   ]
  },
  {
   "cell_type": "markdown",
   "metadata": {},
   "source": [
    "We can plot the total point history along with the moving average to see how our agent improved during training. If you want to know about the different plotting options available in the `utils.plot_history` function we encourage you to take a look at the `utils` module."
   ]
  },
  {
   "cell_type": "code",
   "execution_count": 18,
   "metadata": {
    "deletable": false,
    "editable": false,
    "id": "E_EUXxurfe8m",
    "scrolled": false
   },
   "outputs": [
    {
     "data": {
      "image/png": "[encoded data removed]",
      "text/plain": [
       "<Figure size 720x504 with 1 Axes>"
      ]
     },
     "metadata": {},
     "output_type": "display_data"
    }
   ],
   "source": [
    "# Plot the total point history along with the moving average\n",
    "utils.plot_history(total_point_history)"
   ]
  },
  {
   "cell_type": "markdown",
   "metadata": {
    "id": "c_xwgaX5MnYt"
   },
   "source": [
    "<a name=\"10\"></a>\n",
    "## 10 - See the Trained Agent In Action\n",
    "\n",
    "Now that we have trained our agent, we can see it in action. We will use the `utils.create_video` function to create a video of our agent interacting with the environment using the trained $Q$-Network. The `utils.create_video` function uses the `imageio` library to create the video. This library produces some warnings that can be distracting, so, to suppress these warnings we run the code below."
   ]
  },
  {
   "cell_type": "code",
   "execution_count": 19,
   "metadata": {
    "deletable": false,
    "editable": false
   },
   "outputs": [],
   "source": [
    "# Suppress warnings from imageio\n",
    "import logging\n",
    "logging.getLogger().setLevel(logging.ERROR)"
   ]
  },
  {
   "cell_type": "markdown",
   "metadata": {},
   "source": [
    "In the cell below we create a video of our agent interacting with the Lunar Lander environment using the trained `q_network`. The video is saved to the `videos` folder with the given `filename`. We use the `utils.embed_mp4` function to embed the video in the Jupyter Notebook so that we can see it here directly without having to download it.\n",
    "\n",
    "We should note that since the lunar lander starts with a random initial force applied to its center of mass, every time you run the cell below you will see a different video. If the agent was trained properly, it should be able to land the lunar lander in the landing pad every time, regardless of the initial force applied to its center of mass."
   ]
  },
  {
   "cell_type": "code",
   "execution_count": 20,
   "metadata": {
    "deletable": false,
    "editable": false,
    "id": "3Ttb_zLeJKiG"
   },
   "outputs": [
    {
     "data": {
      "text/html": [
       "\n",
       "    <video width=\"840\" height=\"480\" controls>\n",
       "    <source src=\"data:video/mp4;base64,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\" type=\"video/mp4\">\n",
       "    Your browser does not support the video tag.\n",
       "    </video>"
      ],
      "text/plain": [
       "<IPython.core.display.HTML object>"
      ]
     },
     "execution_count": 20,
     "metadata": {},
     "output_type": "execute_result"
    }
   ],
   "source": [
    "filename = \"./videos/lunar_lander.mp4\"\n",
    "\n",
    "utils.create_video(filename, env, q_network)\n",
    "utils.embed_mp4(filename)"
   ]
  },
  {
   "cell_type": "markdown",
   "metadata": {},
   "source": [
    "<a name=\"11\"></a>\n",
    "## 11 - Congratulations!\n",
    "\n",
    "You have successfully used Deep Q-Learning with Experience Replay to train an agent to land a lunar lander safely on a landing pad on the surface of the moon. Congratulations!"
   ]
  },
  {
   "cell_type": "markdown",
   "metadata": {},
   "source": [
    "<a name=\"12\"></a>\n",
    "## 12 - References\n",
    "\n",
    "If you would like to learn more about Deep Q-Learning, we recommend you check out the following papers.\n",
    "\n",
    "\n",
    "* Mnih, V., Kavukcuoglu, K., Silver, D. et al. Human-level control through deep reinforcement learning. Nature 518, 529–533 (2015).\n",
    "\n",
    "\n",
    "* Lillicrap, T. P., Hunt, J. J., Pritzel, A., et al. Continuous Control with Deep Reinforcement Learning. ICLR (2016).\n",
    "\n",
    "\n",
    "* Mnih, V., Kavukcuoglu, K., Silver, D. et al. Playing Atari with Deep Reinforcement Learning. arXiv e-prints.  arXiv:1312.5602 (2013)."
   ]
  },
  {
   "cell_type": "markdown",
   "metadata": {},
   "source": [
    "<details>\n",
    "  <summary><font size=\"2\" color=\"darkgreen\"><b>Please click here if you want to experiment with any of the non-graded code.</b></font></summary>\n",
    "    <p><i><b>Important Note: Please only do this when you've already passed the assignment to avoid problems with the autograder.</b></i>\n",
    "    <ol>\n",
    "        <li> On the notebook’s menu, click “View” > “Cell Toolbar” > “Edit Metadata”</li>\n",
    "        <li> Hit the “Edit Metadata” button next to the code cell which you want to lock/unlock</li>\n",
    "        <li> Set the attribute value for “editable” to:\n",
    "            <ul>\n",
    "                <li> “true” if you want to unlock it </li>\n",
    "                <li> “false” if you want to lock it </li>\n",
    "            </ul>\n",
    "        </li>\n",
    "        <li> On the notebook’s menu, click “View” > “Cell Toolbar” > “None” </li>\n",
    "    </ol>\n",
    "    <p> Here's a short demo of how to do the steps above: \n",
    "        <br>\n",
    "        <img src=\"https://drive.google.com/uc?export=view&id=14Xy_Mb17CZVgzVAgq7NCjMVBvSae3xO1\" align=\"center\" alt=\"unlock_cells.gif\">\n",
    "</details>"
   ]
  }
 ],
 "metadata": {
  "accelerator": "GPU",
  "colab": {
   "collapsed_sections": [],
   "name": "TensorFlow - Lunar Lander.ipynb",
   "provenance": []
  },
  "kernelspec": {
   "display_name": "Python 3",
   "language": "python",
   "name": "python3"
  },
  "language_info": {
   "codemirror_mode": {
    "name": "ipython",
    "version": 3
   },
   "file_extension": ".py",
   "mimetype": "text/x-python",
   "name": "python",
   "nbconvert_exporter": "python",
   "pygments_lexer": "ipython3",
   "version": "3.7.6"
  }
 },
 "nbformat": 4,
 "nbformat_minor": 1
}
