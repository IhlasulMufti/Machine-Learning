{
  "cells": [
    {
      "cell_type": "markdown",
      "metadata": {
        "id": "b6Dh0qxruLWa"
      },
      "source": [
        "<a href=\"https://colab.research.google.com/github/https-deeplearning-ai/tensorflow-1-public/blob/main/C4/W3/ungraded_labs/C4_W3_Lab_2_LSTM.ipynb\" target=\"_parent\"><img src=\"https://colab.research.google.com/assets/colab-badge.svg\" alt=\"Open In Colab\"/></a>"
      ]
    },
    {
      "cell_type": "markdown",
      "metadata": {
        "id": "sV_nvXSQGJPK"
      },
      "source": [
        "# Ungraded Lab: Using a multi-layer LSTM for forecasting\n",
        "\n",
        "In this lab, you will use the same RNN architecure in the first lab but will instead stack [LSTM](https://www.tensorflow.org/api_docs/python/tf/keras/layers/LSTM) layers instead of `SimpleRNN`."
      ]
    },
    {
      "cell_type": "markdown",
      "metadata": {
        "id": "3IMbAWETGOWD"
      },
      "source": [
        "## Imports"
      ]
    },
    {
      "cell_type": "code",
      "execution_count": 1,
      "metadata": {
        "id": "BOjujz601HcS"
      },
      "outputs": [],
      "source": [
        "import tensorflow as tf\n",
        "import numpy as np\n",
        "import matplotlib.pyplot as plt"
      ]
    },
    {
      "cell_type": "markdown",
      "metadata": {
        "id": "kD7RQQ0xGQVH"
      },
      "source": [
        "## Utilities"
      ]
    },
    {
      "cell_type": "code",
      "execution_count": 2,
      "metadata": {
        "id": "Zswl7jRtGzkk"
      },
      "outputs": [],
      "source": [
        "def plot_series(time, series, format=\"-\", start=0, end=None):\n",
        "    \"\"\"\n",
        "    Visualizes time series data\n",
        "\n",
        "    Args:\n",
        "      time (array of int) - contains the time steps\n",
        "      series (array of int) - contains the measurements for each time step\n",
        "      format - line style when plotting the graph\n",
        "      start - first time step to plot\n",
        "      end - last time step to plot\n",
        "    \"\"\"\n",
        "\n",
        "    # Setup dimensions of the graph figure\n",
        "    plt.figure(figsize=(10, 6))\n",
        "    \n",
        "    if type(series) is tuple:\n",
        "\n",
        "      for series_num in series:\n",
        "        # Plot the time series data\n",
        "        plt.plot(time[start:end], series_num[start:end], format)\n",
        "\n",
        "    else:\n",
        "      # Plot the time series data\n",
        "      plt.plot(time[start:end], series[start:end], format)\n",
        "\n",
        "    # Label the x-axis\n",
        "    plt.xlabel(\"Time\")\n",
        "\n",
        "    # Label the y-axis\n",
        "    plt.ylabel(\"Value\")\n",
        "\n",
        "    # Overlay a grid on the graph\n",
        "    plt.grid(True)\n",
        "\n",
        "    # Draw the graph on screen\n",
        "    plt.show()\n",
        "\n",
        "def trend(time, slope=0):\n",
        "    \"\"\"\n",
        "    Generates synthetic data that follows a straight line given a slope value.\n",
        "\n",
        "    Args:\n",
        "      time (array of int) - contains the time steps\n",
        "      slope (float) - determines the direction and steepness of the line\n",
        "\n",
        "    Returns:\n",
        "      series (array of float) - measurements that follow a straight line\n",
        "    \"\"\"\n",
        "\n",
        "    # Compute the linear series given the slope\n",
        "    series = slope * time\n",
        "\n",
        "    return series\n",
        "\n",
        "def seasonal_pattern(season_time):\n",
        "    \"\"\"\n",
        "    Just an arbitrary pattern, you can change it if you wish\n",
        "    \n",
        "    Args:\n",
        "      season_time (array of float) - contains the measurements per time step\n",
        "\n",
        "    Returns:\n",
        "      data_pattern (array of float) -  contains revised measurement values according \n",
        "                                  to the defined pattern\n",
        "    \"\"\"\n",
        "\n",
        "    # Generate the values using an arbitrary pattern\n",
        "    data_pattern = np.where(season_time < 0.4,\n",
        "                    np.cos(season_time * 2 * np.pi),\n",
        "                    1 / np.exp(3 * season_time))\n",
        "    \n",
        "    return data_pattern\n",
        "\n",
        "def seasonality(time, period, amplitude=1, phase=0):\n",
        "    \"\"\"\n",
        "    Repeats the same pattern at each period\n",
        "\n",
        "    Args:\n",
        "      time (array of int) - contains the time steps\n",
        "      period (int) - number of time steps before the pattern repeats\n",
        "      amplitude (int) - peak measured value in a period\n",
        "      phase (int) - number of time steps to shift the measured values\n",
        "\n",
        "    Returns:\n",
        "      data_pattern (array of float) - seasonal data scaled by the defined amplitude\n",
        "    \"\"\"\n",
        "    \n",
        "    # Define the measured values per period\n",
        "    season_time = ((time + phase) % period) / period\n",
        "\n",
        "    # Generates the seasonal data scaled by the defined amplitude\n",
        "    data_pattern = amplitude * seasonal_pattern(season_time)\n",
        "\n",
        "    return data_pattern\n",
        "\n",
        "def noise(time, noise_level=1, seed=None):\n",
        "    \"\"\"Generates a normally distributed noisy signal\n",
        "\n",
        "    Args:\n",
        "      time (array of int) - contains the time steps\n",
        "      noise_level (float) - scaling factor for the generated signal\n",
        "      seed (int) - number generator seed for repeatability\n",
        "\n",
        "    Returns:\n",
        "      noise (array of float) - the noisy signal\n",
        "    \"\"\"\n",
        "\n",
        "    # Initialize the random number generator\n",
        "    rnd = np.random.RandomState(seed)\n",
        "\n",
        "    # Generate a random number for each time step and scale by the noise level\n",
        "    noise = rnd.randn(len(time)) * noise_level\n",
        "    \n",
        "    return noise"
      ]
    },
    {
      "cell_type": "markdown",
      "metadata": {
        "id": "yxNyeFWjGSdj"
      },
      "source": [
        "## Generate the Synthetic Data"
      ]
    },
    {
      "cell_type": "code",
      "execution_count": 3,
      "metadata": {
        "id": "KYEUfDbdpHPm",
        "colab": {
          "base_uri": "https://localhost:8080/",
          "height": 542
        },
        "outputId": "cab98e17-7860-42c7-d2b4-7dfb89deeab7"
      },
      "outputs": [
        {
          "output_type": "display_data",
          "data": {
            "text/plain": [
              "<Figure size 1000x600 with 1 Axes>"
            ],
            "image/png": "[encoded data removed]"
          },
          "metadata": {}
        }
      ],
      "source": [
        "# Parameters\n",
        "time = np.arange(4 * 365 + 1, dtype=\"float32\")\n",
        "baseline = 10\n",
        "amplitude = 40\n",
        "slope = 0.05\n",
        "noise_level = 5\n",
        "\n",
        "# Create the series\n",
        "series = baseline + trend(time, slope) + seasonality(time, period=365, amplitude=amplitude)\n",
        "\n",
        "# Update with noise\n",
        "series += noise(time, noise_level, seed=42)\n",
        "\n",
        "# Plot the results\n",
        "plot_series(time, series)"
      ]
    },
    {
      "cell_type": "markdown",
      "metadata": {
        "id": "MYKCvv-eGWRc"
      },
      "source": [
        "## Split the Dataset"
      ]
    },
    {
      "cell_type": "code",
      "execution_count": 4,
      "metadata": {
        "id": "hpp0slenpKVD"
      },
      "outputs": [],
      "source": [
        "# Define the split time\n",
        "split_time = 1000\n",
        "\n",
        "# Get the train set \n",
        "time_train = time[:split_time]\n",
        "x_train = series[:split_time]\n",
        "\n",
        "# Get the validation set\n",
        "time_valid = time[split_time:]\n",
        "x_valid = series[split_time:]"
      ]
    },
    {
      "cell_type": "markdown",
      "metadata": {
        "id": "cktHz9aOGYtV"
      },
      "source": [
        "## Prepare Features and Labels"
      ]
    },
    {
      "cell_type": "code",
      "execution_count": 5,
      "metadata": {
        "id": "G_j_2_Mqwn7-"
      },
      "outputs": [],
      "source": [
        "# Parameters\n",
        "window_size = 20\n",
        "batch_size = 32\n",
        "shuffle_buffer_size = 1000"
      ]
    },
    {
      "cell_type": "code",
      "execution_count": 6,
      "metadata": {
        "id": "4sTTIOCbyShY"
      },
      "outputs": [],
      "source": [
        "def windowed_dataset(series, window_size, batch_size, shuffle_buffer):\n",
        "    \"\"\"Generates dataset windows\n",
        "\n",
        "    Args:\n",
        "      series (array of float) - contains the values of the time series\n",
        "      window_size (int) - the number of time steps to include in the feature\n",
        "      batch_size (int) - the batch size\n",
        "      shuffle_buffer(int) - buffer size to use for the shuffle method\n",
        "\n",
        "    Returns:\n",
        "      dataset (TF Dataset) - TF Dataset containing time windows\n",
        "    \"\"\"\n",
        "  \n",
        "    # Generate a TF Dataset from the series values\n",
        "    dataset = tf.data.Dataset.from_tensor_slices(series)\n",
        "    \n",
        "    # Window the data but only take those with the specified size\n",
        "    dataset = dataset.window(window_size + 1, shift=1, drop_remainder=True)\n",
        "    \n",
        "    # Flatten the windows by putting its elements in a single batch\n",
        "    dataset = dataset.flat_map(lambda window: window.batch(window_size + 1))\n",
        "\n",
        "    # Create tuples with features and labels \n",
        "    dataset = dataset.map(lambda window: (window[:-1], window[-1]))\n",
        "\n",
        "    # Shuffle the windows\n",
        "    dataset = dataset.shuffle(shuffle_buffer)\n",
        "    \n",
        "    # Create batches of windows\n",
        "    dataset = dataset.batch(batch_size).prefetch(1)\n",
        "    \n",
        "    return dataset"
      ]
    },
    {
      "cell_type": "code",
      "execution_count": 7,
      "metadata": {
        "id": "vGj5-InSwtQQ"
      },
      "outputs": [],
      "source": [
        "# Generate the dataset windows\n",
        "dataset = windowed_dataset(x_train, window_size, batch_size, shuffle_buffer_size)"
      ]
    },
    {
      "cell_type": "markdown",
      "metadata": {
        "id": "p9-Ke8ZaGcjd"
      },
      "source": [
        "## Build the Model\n",
        "\n",
        "As mentioned, you will swap `SimpleRNN` for `LSTM` in this lab. It is also set as bidirectional below but feel free to revise later and see what results you get. LSTMs are much more complex in their internal architecture than simpleRNNs. It implements a cell state that allows it to remember sequences better than simple implementations. This added complexity results in a bigger set of parameters to train and you'll see that when you print the model summary below."
      ]
    },
    {
      "cell_type": "code",
      "execution_count": 15,
      "metadata": {
        "id": "A1Hl39rklkLm",
        "colab": {
          "base_uri": "https://localhost:8080/"
        },
        "outputId": "63d43bc5-cc65-4760-9ec8-65622053e7c8"
      },
      "outputs": [
        {
          "output_type": "stream",
          "name": "stdout",
          "text": [
            "Model: \"sequential_1\"\n",
            "_________________________________________________________________\n",
            " Layer (type)                Output Shape              Param #   \n",
            "=================================================================\n",
            " lambda_2 (Lambda)           (None, 20, 1)             0         \n",
            "                                                                 \n",
            " lstm_2 (LSTM)               (None, 20, 64)            16896     \n",
            "                                                                 \n",
            " lstm_3 (LSTM)               (None, 64)                33024     \n",
            "                                                                 \n",
            " dense_1 (Dense)             (None, 1)                 65        \n",
            "                                                                 \n",
            " lambda_3 (Lambda)           (None, 1)                 0         \n",
            "                                                                 \n",
            "=================================================================\n",
            "Total params: 49,985\n",
            "Trainable params: 49,985\n",
            "Non-trainable params: 0\n",
            "_________________________________________________________________\n"
          ]
        }
      ],
      "source": [
        "# Build the Model\n",
        "model_tune = tf.keras.models.Sequential([\n",
        "  tf.keras.layers.Lambda(lambda x: tf.expand_dims(x, axis=-1),\n",
        "                      input_shape=[window_size]),\n",
        "  tf.keras.layers.LSTM(64, return_sequences=True),\n",
        "  tf.keras.layers.LSTM(64),\n",
        "  tf.keras.layers.Dense(1),\n",
        "  tf.keras.layers.Lambda(lambda x: x * 100.0)\n",
        "])\n",
        "\n",
        "# Print the model summary\n",
        "model_tune.summary()"
      ]
    },
    {
      "cell_type": "markdown",
      "metadata": {
        "id": "FHaFblbwq0GV"
      },
      "source": [
        "## Tune the Learning Rate\n",
        "\n",
        "As usual, you will pick a learning rate by running the tuning code below."
      ]
    },
    {
      "cell_type": "code",
      "execution_count": 16,
      "metadata": {
        "id": "qE7al18qw48G",
        "colab": {
          "base_uri": "https://localhost:8080/"
        },
        "outputId": "e40b77e2-8ba2-489b-9805-0b9d6e121c38"
      },
      "outputs": [
        {
          "output_type": "stream",
          "name": "stdout",
          "text": [
            "Epoch 1/100\n",
            "31/31 [==============================] - 4s 7ms/step - loss: 31.1216 - lr: 1.0000e-08\n",
            "Epoch 2/100\n",
            "31/31 [==============================] - 0s 6ms/step - loss: 30.1380 - lr: 1.1220e-08\n",
            "Epoch 3/100\n",
            "31/31 [==============================] - 0s 7ms/step - loss: 28.9519 - lr: 1.2589e-08\n",
            "Epoch 4/100\n",
            "31/31 [==============================] - 0s 6ms/step - loss: 27.6277 - lr: 1.4125e-08\n",
            "Epoch 5/100\n",
            "31/31 [==============================] - 0s 6ms/step - loss: 26.1536 - lr: 1.5849e-08\n",
            "Epoch 6/100\n",
            "31/31 [==============================] - 0s 6ms/step - loss: 24.5139 - lr: 1.7783e-08\n",
            "Epoch 7/100\n",
            "31/31 [==============================] - 0s 6ms/step - loss: 22.6989 - lr: 1.9953e-08\n",
            "Epoch 8/100\n",
            "31/31 [==============================] - 0s 6ms/step - loss: 20.7085 - lr: 2.2387e-08\n",
            "Epoch 9/100\n",
            "31/31 [==============================] - 0s 6ms/step - loss: 18.4950 - lr: 2.5119e-08\n",
            "Epoch 10/100\n",
            "31/31 [==============================] - 0s 6ms/step - loss: 16.1118 - lr: 2.8184e-08\n",
            "Epoch 11/100\n",
            "31/31 [==============================] - 0s 6ms/step - loss: 13.6213 - lr: 3.1623e-08\n",
            "Epoch 12/100\n",
            "31/31 [==============================] - 0s 6ms/step - loss: 11.4133 - lr: 3.5481e-08\n",
            "Epoch 13/100\n",
            "31/31 [==============================] - 0s 7ms/step - loss: 9.7096 - lr: 3.9811e-08\n",
            "Epoch 14/100\n",
            "31/31 [==============================] - 0s 6ms/step - loss: 8.6435 - lr: 4.4668e-08\n",
            "Epoch 15/100\n",
            "31/31 [==============================] - 0s 6ms/step - loss: 8.0571 - lr: 5.0119e-08\n",
            "Epoch 16/100\n",
            "31/31 [==============================] - 0s 6ms/step - loss: 7.7865 - lr: 5.6234e-08\n",
            "Epoch 17/100\n",
            "31/31 [==============================] - 0s 6ms/step - loss: 7.6085 - lr: 6.3096e-08\n",
            "Epoch 18/100\n",
            "31/31 [==============================] - 0s 6ms/step - loss: 7.4554 - lr: 7.0795e-08\n",
            "Epoch 19/100\n",
            "31/31 [==============================] - 0s 6ms/step - loss: 7.3013 - lr: 7.9433e-08\n",
            "Epoch 20/100\n",
            "31/31 [==============================] - 0s 6ms/step - loss: 7.1554 - lr: 8.9125e-08\n",
            "Epoch 21/100\n",
            "31/31 [==============================] - 0s 6ms/step - loss: 7.0131 - lr: 1.0000e-07\n",
            "Epoch 22/100\n",
            "31/31 [==============================] - 0s 6ms/step - loss: 6.8832 - lr: 1.1220e-07\n",
            "Epoch 23/100\n",
            "31/31 [==============================] - 0s 6ms/step - loss: 6.7611 - lr: 1.2589e-07\n",
            "Epoch 24/100\n",
            "31/31 [==============================] - 0s 6ms/step - loss: 6.6452 - lr: 1.4125e-07\n",
            "Epoch 25/100\n",
            "31/31 [==============================] - 0s 6ms/step - loss: 6.5387 - lr: 1.5849e-07\n",
            "Epoch 26/100\n",
            "31/31 [==============================] - 0s 6ms/step - loss: 6.4549 - lr: 1.7783e-07\n",
            "Epoch 27/100\n",
            "31/31 [==============================] - 0s 6ms/step - loss: 6.3551 - lr: 1.9953e-07\n",
            "Epoch 28/100\n",
            "31/31 [==============================] - 0s 7ms/step - loss: 6.2779 - lr: 2.2387e-07\n",
            "Epoch 29/100\n",
            "31/31 [==============================] - 0s 8ms/step - loss: 6.2097 - lr: 2.5119e-07\n",
            "Epoch 30/100\n",
            "31/31 [==============================] - 0s 8ms/step - loss: 6.1477 - lr: 2.8184e-07\n",
            "Epoch 31/100\n",
            "31/31 [==============================] - 0s 8ms/step - loss: 6.0830 - lr: 3.1623e-07\n",
            "Epoch 32/100\n",
            "31/31 [==============================] - 0s 8ms/step - loss: 6.0428 - lr: 3.5481e-07\n",
            "Epoch 33/100\n",
            "31/31 [==============================] - 0s 6ms/step - loss: 5.9625 - lr: 3.9811e-07\n",
            "Epoch 34/100\n",
            "31/31 [==============================] - 0s 6ms/step - loss: 5.9175 - lr: 4.4668e-07\n",
            "Epoch 35/100\n",
            "31/31 [==============================] - 0s 6ms/step - loss: 5.8401 - lr: 5.0119e-07\n",
            "Epoch 36/100\n",
            "31/31 [==============================] - 0s 6ms/step - loss: 5.7715 - lr: 5.6234e-07\n",
            "Epoch 37/100\n",
            "31/31 [==============================] - 0s 6ms/step - loss: 5.7168 - lr: 6.3096e-07\n",
            "Epoch 38/100\n",
            "31/31 [==============================] - 0s 6ms/step - loss: 5.6584 - lr: 7.0795e-07\n",
            "Epoch 39/100\n",
            "31/31 [==============================] - 0s 6ms/step - loss: 5.6111 - lr: 7.9433e-07\n",
            "Epoch 40/100\n",
            "31/31 [==============================] - 0s 6ms/step - loss: 5.4870 - lr: 8.9125e-07\n",
            "Epoch 41/100\n",
            "31/31 [==============================] - 0s 6ms/step - loss: 5.4688 - lr: 1.0000e-06\n",
            "Epoch 42/100\n",
            "31/31 [==============================] - 0s 6ms/step - loss: 5.3606 - lr: 1.1220e-06\n",
            "Epoch 43/100\n",
            "31/31 [==============================] - 0s 6ms/step - loss: 5.2771 - lr: 1.2589e-06\n",
            "Epoch 44/100\n",
            "31/31 [==============================] - 0s 6ms/step - loss: 5.2716 - lr: 1.4125e-06\n",
            "Epoch 45/100\n",
            "31/31 [==============================] - 0s 6ms/step - loss: 5.1980 - lr: 1.5849e-06\n",
            "Epoch 46/100\n",
            "31/31 [==============================] - 0s 6ms/step - loss: 5.0991 - lr: 1.7783e-06\n",
            "Epoch 47/100\n",
            "31/31 [==============================] - 0s 6ms/step - loss: 5.0379 - lr: 1.9953e-06\n",
            "Epoch 48/100\n",
            "31/31 [==============================] - 0s 6ms/step - loss: 4.9518 - lr: 2.2387e-06\n",
            "Epoch 49/100\n",
            "31/31 [==============================] - 0s 6ms/step - loss: 4.9665 - lr: 2.5119e-06\n",
            "Epoch 50/100\n",
            "31/31 [==============================] - 0s 6ms/step - loss: 5.0222 - lr: 2.8184e-06\n",
            "Epoch 51/100\n",
            "31/31 [==============================] - 0s 6ms/step - loss: 4.8310 - lr: 3.1623e-06\n",
            "Epoch 52/100\n",
            "31/31 [==============================] - 0s 6ms/step - loss: 4.8167 - lr: 3.5481e-06\n",
            "Epoch 53/100\n",
            "31/31 [==============================] - 0s 6ms/step - loss: 4.8616 - lr: 3.9811e-06\n",
            "Epoch 54/100\n",
            "31/31 [==============================] - 0s 6ms/step - loss: 5.0916 - lr: 4.4668e-06\n",
            "Epoch 55/100\n",
            "31/31 [==============================] - 0s 6ms/step - loss: 4.8139 - lr: 5.0119e-06\n",
            "Epoch 56/100\n",
            "31/31 [==============================] - 0s 6ms/step - loss: 4.6695 - lr: 5.6234e-06\n",
            "Epoch 57/100\n",
            "31/31 [==============================] - 0s 6ms/step - loss: 4.6894 - lr: 6.3096e-06\n",
            "Epoch 58/100\n",
            "31/31 [==============================] - 0s 6ms/step - loss: 4.7934 - lr: 7.0795e-06\n",
            "Epoch 59/100\n",
            "31/31 [==============================] - 0s 6ms/step - loss: 4.8442 - lr: 7.9433e-06\n",
            "Epoch 60/100\n",
            "31/31 [==============================] - 0s 6ms/step - loss: 5.4464 - lr: 8.9125e-06\n",
            "Epoch 61/100\n",
            "31/31 [==============================] - 0s 6ms/step - loss: 5.1227 - lr: 1.0000e-05\n",
            "Epoch 62/100\n",
            "31/31 [==============================] - 0s 6ms/step - loss: 4.9684 - lr: 1.1220e-05\n",
            "Epoch 63/100\n",
            "31/31 [==============================] - 0s 6ms/step - loss: 5.2151 - lr: 1.2589e-05\n",
            "Epoch 64/100\n",
            "31/31 [==============================] - 0s 6ms/step - loss: 4.7821 - lr: 1.4125e-05\n",
            "Epoch 65/100\n",
            "31/31 [==============================] - 0s 6ms/step - loss: 5.1410 - lr: 1.5849e-05\n",
            "Epoch 66/100\n",
            "31/31 [==============================] - 0s 6ms/step - loss: 5.2452 - lr: 1.7783e-05\n",
            "Epoch 67/100\n",
            "31/31 [==============================] - 0s 9ms/step - loss: 4.7255 - lr: 1.9953e-05\n",
            "Epoch 68/100\n",
            "31/31 [==============================] - 0s 8ms/step - loss: 4.8400 - lr: 2.2387e-05\n",
            "Epoch 69/100\n",
            "31/31 [==============================] - 0s 8ms/step - loss: 5.9156 - lr: 2.5119e-05\n",
            "Epoch 70/100\n",
            "31/31 [==============================] - 0s 8ms/step - loss: 4.8646 - lr: 2.8184e-05\n",
            "Epoch 71/100\n",
            "31/31 [==============================] - 0s 6ms/step - loss: 5.7559 - lr: 3.1623e-05\n",
            "Epoch 72/100\n",
            "31/31 [==============================] - 0s 6ms/step - loss: 5.5055 - lr: 3.5481e-05\n",
            "Epoch 73/100\n",
            "31/31 [==============================] - 0s 6ms/step - loss: 6.2415 - lr: 3.9811e-05\n",
            "Epoch 74/100\n",
            "31/31 [==============================] - 0s 6ms/step - loss: 5.3412 - lr: 4.4668e-05\n",
            "Epoch 75/100\n",
            "31/31 [==============================] - 0s 6ms/step - loss: 5.0513 - lr: 5.0119e-05\n",
            "Epoch 76/100\n",
            "31/31 [==============================] - 0s 6ms/step - loss: 5.3741 - lr: 5.6234e-05\n",
            "Epoch 77/100\n",
            "31/31 [==============================] - 0s 6ms/step - loss: 5.0563 - lr: 6.3096e-05\n",
            "Epoch 78/100\n",
            "31/31 [==============================] - 0s 6ms/step - loss: 6.5107 - lr: 7.0795e-05\n",
            "Epoch 79/100\n",
            "31/31 [==============================] - 0s 6ms/step - loss: 5.9707 - lr: 7.9433e-05\n",
            "Epoch 80/100\n",
            "31/31 [==============================] - 0s 6ms/step - loss: 6.2560 - lr: 8.9125e-05\n",
            "Epoch 81/100\n",
            "31/31 [==============================] - 0s 6ms/step - loss: 6.1121 - lr: 1.0000e-04\n",
            "Epoch 82/100\n",
            "31/31 [==============================] - 0s 6ms/step - loss: 6.7097 - lr: 1.1220e-04\n",
            "Epoch 83/100\n",
            "31/31 [==============================] - 0s 6ms/step - loss: 6.0479 - lr: 1.2589e-04\n",
            "Epoch 84/100\n",
            "31/31 [==============================] - 0s 7ms/step - loss: 6.1071 - lr: 1.4125e-04\n",
            "Epoch 85/100\n",
            "31/31 [==============================] - 0s 7ms/step - loss: 8.1308 - lr: 1.5849e-04\n",
            "Epoch 86/100\n",
            "31/31 [==============================] - 0s 6ms/step - loss: 7.1497 - lr: 1.7783e-04\n",
            "Epoch 87/100\n",
            "31/31 [==============================] - 0s 6ms/step - loss: 7.0097 - lr: 1.9953e-04\n",
            "Epoch 88/100\n",
            "31/31 [==============================] - 0s 6ms/step - loss: 7.0004 - lr: 2.2387e-04\n",
            "Epoch 89/100\n",
            "31/31 [==============================] - 0s 6ms/step - loss: 6.5911 - lr: 2.5119e-04\n",
            "Epoch 90/100\n",
            "31/31 [==============================] - 0s 6ms/step - loss: 11.7642 - lr: 2.8184e-04\n",
            "Epoch 91/100\n",
            "31/31 [==============================] - 0s 6ms/step - loss: 6.7799 - lr: 3.1623e-04\n",
            "Epoch 92/100\n",
            "31/31 [==============================] - 0s 6ms/step - loss: 5.5096 - lr: 3.5481e-04\n",
            "Epoch 93/100\n",
            "31/31 [==============================] - 0s 6ms/step - loss: 7.3340 - lr: 3.9811e-04\n",
            "Epoch 94/100\n",
            "31/31 [==============================] - 0s 6ms/step - loss: 7.5296 - lr: 4.4668e-04\n",
            "Epoch 95/100\n",
            "31/31 [==============================] - 0s 6ms/step - loss: 8.2317 - lr: 5.0119e-04\n",
            "Epoch 96/100\n",
            "31/31 [==============================] - 0s 6ms/step - loss: 6.5328 - lr: 5.6234e-04\n",
            "Epoch 97/100\n",
            "31/31 [==============================] - 0s 6ms/step - loss: 7.7546 - lr: 6.3096e-04\n",
            "Epoch 98/100\n",
            "31/31 [==============================] - 0s 6ms/step - loss: 7.2139 - lr: 7.0795e-04\n",
            "Epoch 99/100\n",
            "31/31 [==============================] - 0s 6ms/step - loss: 8.6148 - lr: 7.9433e-04\n",
            "Epoch 100/100\n",
            "31/31 [==============================] - 0s 6ms/step - loss: 8.9172 - lr: 8.9125e-04\n"
          ]
        }
      ],
      "source": [
        "# Set the learning rate scheduler\n",
        "lr_schedule = tf.keras.callbacks.LearningRateScheduler(\n",
        "    lambda epoch: 1e-8 * 10**(epoch / 20))\n",
        "\n",
        "# Initialize the optimizer\n",
        "optimizer = tf.keras.optimizers.SGD(momentum=0.9)\n",
        "\n",
        "# Set the training parameters\n",
        "model_tune.compile(loss=tf.keras.losses.Huber(), optimizer=optimizer)\n",
        "\n",
        "# Train the model\n",
        "history = model_tune.fit(dataset, epochs=100, callbacks=[lr_schedule])"
      ]
    },
    {
      "cell_type": "code",
      "execution_count": 17,
      "metadata": {
        "id": "AkBsrsXMzoWR",
        "colab": {
          "base_uri": "https://localhost:8080/",
          "height": 558
        },
        "outputId": "838a08e1-eed5-466a-b1d6-2111ec939fcb"
      },
      "outputs": [
        {
          "output_type": "execute_result",
          "data": {
            "text/plain": [
              "(1e-08, 0.001, 0.0, 30.0)"
            ]
          },
          "metadata": {},
          "execution_count": 17
        },
        {
          "output_type": "display_data",
          "data": {
            "text/plain": [
              "<Figure size 1000x600 with 1 Axes>"
            ],
            "image/png": "[encoded data removed]"
          },
          "metadata": {}
        }
      ],
      "source": [
        "# Define the learning rate array\n",
        "lrs = 1e-8 * (10 ** (np.arange(100) / 20))\n",
        "\n",
        "# Set the figure size\n",
        "plt.figure(figsize=(10, 6))\n",
        "\n",
        "# Set the grid\n",
        "plt.grid(True)\n",
        "\n",
        "# Plot the loss in log scale\n",
        "plt.semilogx(lrs, history.history[\"loss\"])\n",
        "\n",
        "# Increase the tickmarks size\n",
        "plt.tick_params('both', length=10, width=1, which='both')\n",
        "\n",
        "# Set the plot boundaries\n",
        "plt.axis([1e-8, 1e-3, 0, 30])"
      ]
    },
    {
      "cell_type": "markdown",
      "metadata": {
        "id": "i-lKNp4pq_w8"
      },
      "source": [
        "## Train the Model\n",
        "\n",
        "You can then proceed to train the model with your chosen learning rate. \n",
        "\n",
        "*Tip: When experimenting and you find yourself running different iterations of a model, you may want to use the [`clear_session()`](https://www.tensorflow.org/api_docs/python/tf/keras/backend/clear_session) method to declutter memory used by Keras. This is added in the first line below.*\n"
      ]
    },
    {
      "cell_type": "code",
      "execution_count": 23,
      "metadata": {
        "id": "4uh-97bpLZCA",
        "colab": {
          "base_uri": "https://localhost:8080/"
        },
        "outputId": "51d313ce-f5c2-45a9-97a7-0542baae45bb"
      },
      "outputs": [
        {
          "output_type": "stream",
          "name": "stdout",
          "text": [
            "Epoch 1/100\n",
            "31/31 [==============================] - 4s 7ms/step - loss: 15.9687 - mae: 16.4578\n",
            "Epoch 2/100\n",
            "31/31 [==============================] - 0s 7ms/step - loss: 7.7337 - mae: 8.2209\n",
            "Epoch 3/100\n",
            "31/31 [==============================] - 0s 6ms/step - loss: 5.7554 - mae: 6.2337\n",
            "Epoch 4/100\n",
            "31/31 [==============================] - 0s 6ms/step - loss: 5.6032 - mae: 6.0867\n",
            "Epoch 5/100\n",
            "31/31 [==============================] - 0s 7ms/step - loss: 5.3614 - mae: 5.8482\n",
            "Epoch 6/100\n",
            "31/31 [==============================] - 0s 6ms/step - loss: 5.1999 - mae: 5.6822\n",
            "Epoch 7/100\n",
            "31/31 [==============================] - 0s 6ms/step - loss: 5.3187 - mae: 5.8000\n",
            "Epoch 8/100\n",
            "31/31 [==============================] - 0s 6ms/step - loss: 5.0706 - mae: 5.5474\n",
            "Epoch 9/100\n",
            "31/31 [==============================] - 0s 6ms/step - loss: 5.0085 - mae: 5.4896\n",
            "Epoch 10/100\n",
            "31/31 [==============================] - 0s 6ms/step - loss: 4.8416 - mae: 5.3195\n",
            "Epoch 11/100\n",
            "31/31 [==============================] - 0s 6ms/step - loss: 5.0177 - mae: 5.4910\n",
            "Epoch 12/100\n",
            "31/31 [==============================] - 0s 7ms/step - loss: 4.8727 - mae: 5.3510\n",
            "Epoch 13/100\n",
            "31/31 [==============================] - 0s 6ms/step - loss: 4.7582 - mae: 5.2355\n",
            "Epoch 14/100\n",
            "31/31 [==============================] - 0s 6ms/step - loss: 4.8694 - mae: 5.3484\n",
            "Epoch 15/100\n",
            "31/31 [==============================] - 0s 6ms/step - loss: 4.8097 - mae: 5.2887\n",
            "Epoch 16/100\n",
            "31/31 [==============================] - 0s 6ms/step - loss: 4.6871 - mae: 5.1652\n",
            "Epoch 17/100\n",
            "31/31 [==============================] - 0s 6ms/step - loss: 4.6581 - mae: 5.1333\n",
            "Epoch 18/100\n",
            "31/31 [==============================] - 0s 6ms/step - loss: 4.6370 - mae: 5.1104\n",
            "Epoch 19/100\n",
            "31/31 [==============================] - 0s 7ms/step - loss: 4.7144 - mae: 5.1915\n",
            "Epoch 20/100\n",
            "31/31 [==============================] - 0s 6ms/step - loss: 4.5925 - mae: 5.0675\n",
            "Epoch 21/100\n",
            "31/31 [==============================] - 0s 6ms/step - loss: 4.6740 - mae: 5.1525\n",
            "Epoch 22/100\n",
            "31/31 [==============================] - 0s 6ms/step - loss: 4.7139 - mae: 5.1916\n",
            "Epoch 23/100\n",
            "31/31 [==============================] - 0s 6ms/step - loss: 4.6347 - mae: 5.1099\n",
            "Epoch 24/100\n",
            "31/31 [==============================] - 0s 6ms/step - loss: 4.9716 - mae: 5.4515\n",
            "Epoch 25/100\n",
            "31/31 [==============================] - 0s 6ms/step - loss: 5.0358 - mae: 5.5168\n",
            "Epoch 26/100\n",
            "31/31 [==============================] - 0s 7ms/step - loss: 4.8678 - mae: 5.3461\n",
            "Epoch 27/100\n",
            "31/31 [==============================] - 0s 6ms/step - loss: 4.5894 - mae: 5.0642\n",
            "Epoch 28/100\n",
            "31/31 [==============================] - 0s 9ms/step - loss: 4.6123 - mae: 5.0866\n",
            "Epoch 29/100\n",
            "31/31 [==============================] - 0s 10ms/step - loss: 4.5615 - mae: 5.0371\n",
            "Epoch 30/100\n",
            "31/31 [==============================] - 0s 9ms/step - loss: 4.5304 - mae: 5.0097\n",
            "Epoch 31/100\n",
            "31/31 [==============================] - 0s 9ms/step - loss: 4.6026 - mae: 5.0763\n",
            "Epoch 32/100\n",
            "31/31 [==============================] - 0s 6ms/step - loss: 4.5353 - mae: 5.0156\n",
            "Epoch 33/100\n",
            "31/31 [==============================] - 0s 7ms/step - loss: 4.7369 - mae: 5.2139\n",
            "Epoch 34/100\n",
            "31/31 [==============================] - 0s 6ms/step - loss: 4.5915 - mae: 5.0719\n",
            "Epoch 35/100\n",
            "31/31 [==============================] - 0s 6ms/step - loss: 4.5107 - mae: 4.9883\n",
            "Epoch 36/100\n",
            "31/31 [==============================] - 0s 6ms/step - loss: 4.5265 - mae: 5.0061\n",
            "Epoch 37/100\n",
            "31/31 [==============================] - 0s 6ms/step - loss: 4.6702 - mae: 5.1501\n",
            "Epoch 38/100\n",
            "31/31 [==============================] - 0s 6ms/step - loss: 4.5037 - mae: 4.9832\n",
            "Epoch 39/100\n",
            "31/31 [==============================] - 0s 7ms/step - loss: 4.5599 - mae: 5.0382\n",
            "Epoch 40/100\n",
            "31/31 [==============================] - 0s 6ms/step - loss: 4.5203 - mae: 4.9961\n",
            "Epoch 41/100\n",
            "31/31 [==============================] - 0s 6ms/step - loss: 4.5756 - mae: 5.0490\n",
            "Epoch 42/100\n",
            "31/31 [==============================] - 0s 7ms/step - loss: 4.8907 - mae: 5.3707\n",
            "Epoch 43/100\n",
            "31/31 [==============================] - 0s 6ms/step - loss: 4.4895 - mae: 4.9640\n",
            "Epoch 44/100\n",
            "31/31 [==============================] - 0s 6ms/step - loss: 4.5723 - mae: 5.0509\n",
            "Epoch 45/100\n",
            "31/31 [==============================] - 0s 6ms/step - loss: 4.5964 - mae: 5.0739\n",
            "Epoch 46/100\n",
            "31/31 [==============================] - 0s 6ms/step - loss: 4.6211 - mae: 5.0969\n",
            "Epoch 47/100\n",
            "31/31 [==============================] - 0s 7ms/step - loss: 4.6325 - mae: 5.1099\n",
            "Epoch 48/100\n",
            "31/31 [==============================] - 0s 6ms/step - loss: 4.6112 - mae: 5.0869\n",
            "Epoch 49/100\n",
            "31/31 [==============================] - 0s 7ms/step - loss: 4.4902 - mae: 4.9661\n",
            "Epoch 50/100\n",
            "31/31 [==============================] - 0s 6ms/step - loss: 4.7911 - mae: 5.2695\n",
            "Epoch 51/100\n",
            "31/31 [==============================] - 0s 7ms/step - loss: 4.6373 - mae: 5.1139\n",
            "Epoch 52/100\n",
            "31/31 [==============================] - 0s 7ms/step - loss: 4.4888 - mae: 4.9643\n",
            "Epoch 53/100\n",
            "31/31 [==============================] - 0s 6ms/step - loss: 4.5557 - mae: 5.0304\n",
            "Epoch 54/100\n",
            "31/31 [==============================] - 0s 6ms/step - loss: 4.4496 - mae: 4.9287\n",
            "Epoch 55/100\n",
            "31/31 [==============================] - 0s 6ms/step - loss: 4.5187 - mae: 4.9960\n",
            "Epoch 56/100\n",
            "31/31 [==============================] - 0s 6ms/step - loss: 4.6003 - mae: 5.0713\n",
            "Epoch 57/100\n",
            "31/31 [==============================] - 0s 6ms/step - loss: 4.4912 - mae: 4.9657\n",
            "Epoch 58/100\n",
            "31/31 [==============================] - 0s 6ms/step - loss: 4.4673 - mae: 4.9425\n",
            "Epoch 59/100\n",
            "31/31 [==============================] - 0s 6ms/step - loss: 4.6580 - mae: 5.1389\n",
            "Epoch 60/100\n",
            "31/31 [==============================] - 0s 6ms/step - loss: 4.5782 - mae: 5.0531\n",
            "Epoch 61/100\n",
            "31/31 [==============================] - 0s 6ms/step - loss: 4.6743 - mae: 5.1493\n",
            "Epoch 62/100\n",
            "31/31 [==============================] - 0s 6ms/step - loss: 4.6337 - mae: 5.1114\n",
            "Epoch 63/100\n",
            "31/31 [==============================] - 0s 9ms/step - loss: 4.5152 - mae: 4.9918\n",
            "Epoch 64/100\n",
            "31/31 [==============================] - 0s 9ms/step - loss: 4.4877 - mae: 4.9664\n",
            "Epoch 65/100\n",
            "31/31 [==============================] - 0s 9ms/step - loss: 4.4994 - mae: 4.9763\n",
            "Epoch 66/100\n",
            "31/31 [==============================] - 0s 9ms/step - loss: 4.6199 - mae: 5.0984\n",
            "Epoch 67/100\n",
            "31/31 [==============================] - 0s 9ms/step - loss: 4.5030 - mae: 4.9789\n",
            "Epoch 68/100\n",
            "31/31 [==============================] - 0s 7ms/step - loss: 4.5136 - mae: 4.9932\n",
            "Epoch 69/100\n",
            "31/31 [==============================] - 0s 6ms/step - loss: 4.6444 - mae: 5.1236\n",
            "Epoch 70/100\n",
            "31/31 [==============================] - 0s 7ms/step - loss: 4.5306 - mae: 5.0047\n",
            "Epoch 71/100\n",
            "31/31 [==============================] - 0s 6ms/step - loss: 4.5015 - mae: 4.9779\n",
            "Epoch 72/100\n",
            "31/31 [==============================] - 0s 6ms/step - loss: 4.4187 - mae: 4.8971\n",
            "Epoch 73/100\n",
            "31/31 [==============================] - 0s 6ms/step - loss: 4.4219 - mae: 4.8991\n",
            "Epoch 74/100\n",
            "31/31 [==============================] - 0s 6ms/step - loss: 4.4268 - mae: 4.9048\n",
            "Epoch 75/100\n",
            "31/31 [==============================] - 0s 6ms/step - loss: 4.6821 - mae: 5.1600\n",
            "Epoch 76/100\n",
            "31/31 [==============================] - 0s 6ms/step - loss: 4.5327 - mae: 5.0095\n",
            "Epoch 77/100\n",
            "31/31 [==============================] - 0s 6ms/step - loss: 4.4349 - mae: 4.9150\n",
            "Epoch 78/100\n",
            "31/31 [==============================] - 0s 6ms/step - loss: 4.4454 - mae: 4.9205\n",
            "Epoch 79/100\n",
            "31/31 [==============================] - 0s 6ms/step - loss: 4.4526 - mae: 4.9310\n",
            "Epoch 80/100\n",
            "31/31 [==============================] - 0s 6ms/step - loss: 4.5924 - mae: 5.0702\n",
            "Epoch 81/100\n",
            "31/31 [==============================] - 0s 6ms/step - loss: 4.6178 - mae: 5.0973\n",
            "Epoch 82/100\n",
            "31/31 [==============================] - 0s 7ms/step - loss: 4.4345 - mae: 4.9095\n",
            "Epoch 83/100\n",
            "31/31 [==============================] - 0s 6ms/step - loss: 4.5261 - mae: 5.0028\n",
            "Epoch 84/100\n",
            "31/31 [==============================] - 0s 6ms/step - loss: 4.4795 - mae: 4.9522\n",
            "Epoch 85/100\n",
            "31/31 [==============================] - 0s 6ms/step - loss: 4.4629 - mae: 4.9378\n",
            "Epoch 86/100\n",
            "31/31 [==============================] - 0s 7ms/step - loss: 4.4290 - mae: 4.9052\n",
            "Epoch 87/100\n",
            "31/31 [==============================] - 0s 6ms/step - loss: 4.4539 - mae: 4.9253\n",
            "Epoch 88/100\n",
            "31/31 [==============================] - 0s 6ms/step - loss: 4.5638 - mae: 5.0400\n",
            "Epoch 89/100\n",
            "31/31 [==============================] - 0s 6ms/step - loss: 4.5659 - mae: 5.0386\n",
            "Epoch 90/100\n",
            "31/31 [==============================] - 0s 7ms/step - loss: 4.7292 - mae: 5.2064\n",
            "Epoch 91/100\n",
            "31/31 [==============================] - 0s 6ms/step - loss: 4.4397 - mae: 4.9130\n",
            "Epoch 92/100\n",
            "31/31 [==============================] - 0s 6ms/step - loss: 4.4760 - mae: 4.9516\n",
            "Epoch 93/100\n",
            "31/31 [==============================] - 0s 6ms/step - loss: 4.7853 - mae: 5.2615\n",
            "Epoch 94/100\n",
            "31/31 [==============================] - 0s 6ms/step - loss: 4.4957 - mae: 4.9685\n",
            "Epoch 95/100\n",
            "31/31 [==============================] - 0s 6ms/step - loss: 4.4578 - mae: 4.9343\n",
            "Epoch 96/100\n",
            "31/31 [==============================] - 0s 6ms/step - loss: 4.4920 - mae: 4.9673\n",
            "Epoch 97/100\n",
            "31/31 [==============================] - 0s 6ms/step - loss: 4.4495 - mae: 4.9249\n",
            "Epoch 98/100\n",
            "31/31 [==============================] - 0s 7ms/step - loss: 4.5580 - mae: 5.0336\n",
            "Epoch 99/100\n",
            "31/31 [==============================] - 0s 7ms/step - loss: 4.4540 - mae: 4.9267\n",
            "Epoch 100/100\n",
            "31/31 [==============================] - 0s 7ms/step - loss: 4.4757 - mae: 4.9533\n"
          ]
        }
      ],
      "source": [
        "# Reset states generated by Keras\n",
        "tf.keras.backend.clear_session()\n",
        "\n",
        "# Build the model\n",
        "model = tf.keras.models.Sequential([\n",
        "  tf.keras.layers.Lambda(lambda x: tf.expand_dims(x, axis=-1),\n",
        "                      input_shape=[None]),\n",
        "  tf.keras.layers.LSTM(64, return_sequences=True),\n",
        "  tf.keras.layers.LSTM(64),\n",
        "  tf.keras.layers.Dense(1),\n",
        "  tf.keras.layers.Lambda(lambda x: x * 100.0)\n",
        "])\n",
        "\n",
        "# Set the learning rate\n",
        "learning_rate = 4e-6\n",
        "\n",
        "# Set the optimizer \n",
        "optimizer = tf.keras.optimizers.SGD(learning_rate=learning_rate, momentum=0.9)\n",
        "\n",
        "# Set the training parameters\n",
        "model.compile(loss=tf.keras.losses.Huber(),\n",
        "              optimizer=optimizer,\n",
        "              metrics=[\"mae\"])\n",
        "\n",
        "# Train the model\n",
        "history = model.fit(dataset,epochs=100)"
      ]
    },
    {
      "cell_type": "markdown",
      "metadata": {
        "id": "RjP4kbGiI7cw"
      },
      "source": [
        "## Model Prediction\n",
        "\n",
        "You will then generate batches of windows to generate predictions that align with the validation set."
      ]
    },
    {
      "cell_type": "code",
      "execution_count": 24,
      "metadata": {
        "id": "QO8cfKwKBBG6"
      },
      "outputs": [],
      "source": [
        "def model_forecast(model, series, window_size, batch_size):\n",
        "    \"\"\"Uses an input model to generate predictions on data windows\n",
        "\n",
        "    Args:\n",
        "      model (TF Keras Model) - model that accepts data windows\n",
        "      series (array of float) - contains the values of the time series\n",
        "      window_size (int) - the number of time steps to include in the window\n",
        "      batch_size (int) - the batch size\n",
        "\n",
        "    Returns:\n",
        "      forecast (numpy array) - array containing predictions\n",
        "    \"\"\"\n",
        "\n",
        "    # Generate a TF Dataset from the series values\n",
        "    dataset = tf.data.Dataset.from_tensor_slices(series)\n",
        "\n",
        "    # Window the data but only take those with the specified size\n",
        "    dataset = dataset.window(window_size, shift=1, drop_remainder=True)\n",
        "\n",
        "    # Flatten the windows by putting its elements in a single batch\n",
        "    dataset = dataset.flat_map(lambda w: w.batch(window_size))\n",
        "    \n",
        "    # Create batches of windows\n",
        "    dataset = dataset.batch(batch_size).prefetch(1)\n",
        "    \n",
        "    # Get predictions on the entire dataset\n",
        "    forecast = model.predict(dataset)\n",
        "    \n",
        "    return forecast"
      ]
    },
    {
      "cell_type": "code",
      "execution_count": 25,
      "metadata": {
        "id": "_plB3UseBD8o",
        "colab": {
          "base_uri": "https://localhost:8080/",
          "height": 559
        },
        "outputId": "7f3c2835-a98e-4608-fa0f-18ef917108a6"
      },
      "outputs": [
        {
          "output_type": "stream",
          "name": "stdout",
          "text": [
            "15/15 [==============================] - 1s 7ms/step\n"
          ]
        },
        {
          "output_type": "display_data",
          "data": {
            "text/plain": [
              "<Figure size 1000x600 with 1 Axes>"
            ],
            "image/png": "[encoded data removed]"
          },
          "metadata": {}
        }
      ],
      "source": [
        "# Reduce the original series\n",
        "forecast_series = series[split_time-window_size:-1]\n",
        "\n",
        "# Use helper function to generate predictions\n",
        "forecast = model_forecast(model, forecast_series, window_size, batch_size)\n",
        "\n",
        "# Drop single dimensional axis\n",
        "results = forecast.squeeze()\n",
        "\n",
        "# Plot the results\n",
        "plot_series(time_valid, (x_valid, results))"
      ]
    },
    {
      "cell_type": "markdown",
      "metadata": {
        "id": "Nn8iSQkZtaRC"
      },
      "source": [
        "You can then generate the metrics to evaluate the model's performance."
      ]
    },
    {
      "cell_type": "code",
      "execution_count": 26,
      "metadata": {
        "id": "-IKhueZaBGID",
        "colab": {
          "base_uri": "https://localhost:8080/"
        },
        "outputId": "8cca8996-4692-44d7-c2f9-a986fef738d7"
      },
      "outputs": [
        {
          "output_type": "stream",
          "name": "stdout",
          "text": [
            "56.9362\n",
            "5.4343753\n"
          ]
        }
      ],
      "source": [
        "# Compute the MSE and MAE\n",
        "print(tf.keras.metrics.mean_squared_error(x_valid, results).numpy())\n",
        "print(tf.keras.metrics.mean_absolute_error(x_valid, results).numpy())"
      ]
    },
    {
      "cell_type": "markdown",
      "metadata": {
        "id": "bzPIqeMWvbPy"
      },
      "source": [
        "## Wrap Up\n",
        "\n",
        "This concludes this short exercise on using LSTMs for time series forecasting. Next week, you will build upon this and add convolutions. Then, you will start to move away from synthetic data and use real-world datasets. See you there!"
      ]
    },
    {
      "cell_type": "markdown",
      "metadata": {
        "id": "U5PqTePGHeMH"
      },
      "source": [
        "## Optional: Including a Validation Set while Training\n",
        "\n",
        "Back in the first course of this specialization, you saw how you can also monitor the performance of your model against a validation set while training. You can also do that for this lab. \n",
        "\n",
        "First, you need to generate a `val_set` which are data windows and labels that your model can accept. You can simply reuse the `windowed_dataset` function for that and you can pass in the `x_valid` points to generate the windows."
      ]
    },
    {
      "cell_type": "code",
      "execution_count": 27,
      "metadata": {
        "id": "kvFVwL3PC4iX"
      },
      "outputs": [],
      "source": [
        "# Generate data windows of the validation set\n",
        "val_set = windowed_dataset(x_valid, window_size, batch_size, shuffle_buffer_size)"
      ]
    },
    {
      "cell_type": "markdown",
      "metadata": {
        "id": "p68j6XxEvP9K"
      },
      "source": [
        "You can then do the same training as before but pass in the `val_set` to the `validation_data` parameter of the `fit()` method."
      ]
    },
    {
      "cell_type": "code",
      "execution_count": 29,
      "metadata": {
        "id": "wujKz6tXDSn0",
        "colab": {
          "base_uri": "https://localhost:8080/"
        },
        "outputId": "6777431a-b755-49df-daf0-bccc48fe9c82"
      },
      "outputs": [
        {
          "output_type": "stream",
          "name": "stdout",
          "text": [
            "Epoch 1/100\n",
            "31/31 [==============================] - 5s 40ms/step - loss: 16.2237 - mae: 16.7142 - val_loss: 22.1781 - val_mae: 22.6764\n",
            "Epoch 2/100\n",
            "31/31 [==============================] - 1s 13ms/step - loss: 7.2140 - mae: 7.6969 - val_loss: 11.2297 - val_mae: 11.7213\n",
            "Epoch 3/100\n",
            "31/31 [==============================] - 0s 10ms/step - loss: 6.3214 - mae: 6.8015 - val_loss: 11.5948 - val_mae: 12.0900\n",
            "Epoch 4/100\n",
            "31/31 [==============================] - 0s 10ms/step - loss: 5.9744 - mae: 6.4535 - val_loss: 10.3295 - val_mae: 10.8155\n",
            "Epoch 5/100\n",
            "31/31 [==============================] - 0s 10ms/step - loss: 5.6185 - mae: 6.0994 - val_loss: 8.5416 - val_mae: 9.0292\n",
            "Epoch 6/100\n",
            "31/31 [==============================] - 0s 10ms/step - loss: 5.4382 - mae: 5.9231 - val_loss: 8.5948 - val_mae: 9.0792\n",
            "Epoch 7/100\n",
            "31/31 [==============================] - 0s 11ms/step - loss: 5.1840 - mae: 5.6627 - val_loss: 8.3972 - val_mae: 8.8832\n",
            "Epoch 8/100\n",
            "31/31 [==============================] - 0s 10ms/step - loss: 5.2722 - mae: 5.7500 - val_loss: 7.9382 - val_mae: 8.4225\n",
            "Epoch 9/100\n",
            "31/31 [==============================] - 0s 10ms/step - loss: 5.2996 - mae: 5.7755 - val_loss: 7.8866 - val_mae: 8.3722\n",
            "Epoch 10/100\n",
            "31/31 [==============================] - 0s 10ms/step - loss: 5.2508 - mae: 5.7293 - val_loss: 10.1557 - val_mae: 10.6463\n",
            "Epoch 11/100\n",
            "31/31 [==============================] - 0s 10ms/step - loss: 5.4894 - mae: 5.9714 - val_loss: 6.6865 - val_mae: 7.1710\n",
            "Epoch 12/100\n",
            "31/31 [==============================] - 0s 10ms/step - loss: 5.0262 - mae: 5.5033 - val_loss: 7.2584 - val_mae: 7.7412\n",
            "Epoch 13/100\n",
            "31/31 [==============================] - 0s 10ms/step - loss: 4.9153 - mae: 5.3963 - val_loss: 6.8864 - val_mae: 7.3670\n",
            "Epoch 14/100\n",
            "31/31 [==============================] - 0s 10ms/step - loss: 5.0270 - mae: 5.5017 - val_loss: 7.5292 - val_mae: 8.0126\n",
            "Epoch 15/100\n",
            "31/31 [==============================] - 0s 10ms/step - loss: 4.9640 - mae: 5.4422 - val_loss: 7.0777 - val_mae: 7.5608\n",
            "Epoch 16/100\n",
            "31/31 [==============================] - 0s 9ms/step - loss: 4.8081 - mae: 5.2851 - val_loss: 5.9176 - val_mae: 6.3980\n",
            "Epoch 17/100\n",
            "31/31 [==============================] - 0s 9ms/step - loss: 4.9751 - mae: 5.4558 - val_loss: 8.2832 - val_mae: 8.7708\n",
            "Epoch 18/100\n",
            "31/31 [==============================] - 0s 9ms/step - loss: 4.9064 - mae: 5.3845 - val_loss: 7.3606 - val_mae: 7.8422\n",
            "Epoch 19/100\n",
            "31/31 [==============================] - 0s 10ms/step - loss: 4.7410 - mae: 5.2195 - val_loss: 5.9890 - val_mae: 6.4783\n",
            "Epoch 20/100\n",
            "31/31 [==============================] - 0s 9ms/step - loss: 5.0709 - mae: 5.5478 - val_loss: 6.0010 - val_mae: 6.4857\n",
            "Epoch 21/100\n",
            "31/31 [==============================] - 0s 10ms/step - loss: 5.1988 - mae: 5.6830 - val_loss: 8.2135 - val_mae: 8.7002\n",
            "Epoch 22/100\n",
            "31/31 [==============================] - 1s 19ms/step - loss: 4.9885 - mae: 5.4696 - val_loss: 6.9010 - val_mae: 7.3824\n",
            "Epoch 23/100\n",
            "31/31 [==============================] - 1s 10ms/step - loss: 4.8779 - mae: 5.3581 - val_loss: 6.6900 - val_mae: 7.1747\n",
            "Epoch 24/100\n",
            "31/31 [==============================] - 0s 10ms/step - loss: 4.8195 - mae: 5.2953 - val_loss: 5.8781 - val_mae: 6.3634\n",
            "Epoch 25/100\n",
            "31/31 [==============================] - 0s 10ms/step - loss: 4.6937 - mae: 5.1693 - val_loss: 5.7926 - val_mae: 6.2817\n",
            "Epoch 26/100\n",
            "31/31 [==============================] - 0s 9ms/step - loss: 4.6709 - mae: 5.1523 - val_loss: 6.5026 - val_mae: 6.9852\n",
            "Epoch 27/100\n",
            "31/31 [==============================] - 0s 10ms/step - loss: 4.7063 - mae: 5.1807 - val_loss: 5.4968 - val_mae: 5.9723\n",
            "Epoch 28/100\n",
            "31/31 [==============================] - 0s 9ms/step - loss: 4.8316 - mae: 5.3057 - val_loss: 7.9618 - val_mae: 8.4479\n",
            "Epoch 29/100\n",
            "31/31 [==============================] - 0s 10ms/step - loss: 4.7060 - mae: 5.1810 - val_loss: 6.1192 - val_mae: 6.5990\n",
            "Epoch 30/100\n",
            "31/31 [==============================] - 0s 9ms/step - loss: 4.6837 - mae: 5.1574 - val_loss: 6.8675 - val_mae: 7.3483\n",
            "Epoch 31/100\n",
            "31/31 [==============================] - 0s 9ms/step - loss: 4.6091 - mae: 5.0898 - val_loss: 5.9221 - val_mae: 6.4044\n",
            "Epoch 32/100\n",
            "31/31 [==============================] - 0s 9ms/step - loss: 4.5672 - mae: 5.0398 - val_loss: 5.6230 - val_mae: 6.1092\n",
            "Epoch 33/100\n",
            "31/31 [==============================] - 0s 11ms/step - loss: 4.6216 - mae: 5.0991 - val_loss: 5.8068 - val_mae: 6.2914\n",
            "Epoch 34/100\n",
            "31/31 [==============================] - 0s 10ms/step - loss: 4.6041 - mae: 5.0786 - val_loss: 6.0091 - val_mae: 6.4903\n",
            "Epoch 35/100\n",
            "31/31 [==============================] - 0s 10ms/step - loss: 4.5776 - mae: 5.0551 - val_loss: 5.6477 - val_mae: 6.1340\n",
            "Epoch 36/100\n",
            "31/31 [==============================] - 0s 10ms/step - loss: 4.5741 - mae: 5.0482 - val_loss: 5.6479 - val_mae: 6.1317\n",
            "Epoch 37/100\n",
            "31/31 [==============================] - 0s 10ms/step - loss: 4.5690 - mae: 5.0439 - val_loss: 5.7737 - val_mae: 6.2590\n",
            "Epoch 38/100\n",
            "31/31 [==============================] - 0s 10ms/step - loss: 4.4866 - mae: 4.9624 - val_loss: 5.8364 - val_mae: 6.3211\n",
            "Epoch 39/100\n",
            "31/31 [==============================] - 0s 10ms/step - loss: 4.5254 - mae: 5.0012 - val_loss: 6.8180 - val_mae: 7.3003\n",
            "Epoch 40/100\n",
            "31/31 [==============================] - 0s 10ms/step - loss: 4.5761 - mae: 5.0494 - val_loss: 5.7952 - val_mae: 6.2797\n",
            "Epoch 41/100\n",
            "31/31 [==============================] - 0s 9ms/step - loss: 4.6027 - mae: 5.0774 - val_loss: 5.3220 - val_mae: 5.7964\n",
            "Epoch 42/100\n",
            "31/31 [==============================] - 0s 9ms/step - loss: 4.7324 - mae: 5.2068 - val_loss: 6.9178 - val_mae: 7.4021\n",
            "Epoch 43/100\n",
            "31/31 [==============================] - 1s 21ms/step - loss: 4.5453 - mae: 5.0195 - val_loss: 5.8916 - val_mae: 6.3729\n",
            "Epoch 44/100\n",
            "31/31 [==============================] - 1s 20ms/step - loss: 4.5114 - mae: 4.9896 - val_loss: 5.8623 - val_mae: 6.3445\n",
            "Epoch 45/100\n",
            "31/31 [==============================] - 0s 10ms/step - loss: 4.4781 - mae: 4.9501 - val_loss: 6.5118 - val_mae: 6.9888\n",
            "Epoch 46/100\n",
            "31/31 [==============================] - 0s 9ms/step - loss: 4.5787 - mae: 5.0550 - val_loss: 5.9950 - val_mae: 6.4738\n",
            "Epoch 47/100\n",
            "31/31 [==============================] - 0s 10ms/step - loss: 4.5155 - mae: 4.9896 - val_loss: 6.1813 - val_mae: 6.6577\n",
            "Epoch 48/100\n",
            "31/31 [==============================] - 0s 9ms/step - loss: 4.5939 - mae: 5.0701 - val_loss: 5.4289 - val_mae: 5.9093\n",
            "Epoch 49/100\n",
            "31/31 [==============================] - 0s 9ms/step - loss: 4.6890 - mae: 5.1675 - val_loss: 6.0407 - val_mae: 6.5188\n",
            "Epoch 50/100\n",
            "31/31 [==============================] - 0s 10ms/step - loss: 4.4768 - mae: 4.9574 - val_loss: 5.5359 - val_mae: 6.0216\n",
            "Epoch 51/100\n",
            "31/31 [==============================] - 0s 9ms/step - loss: 4.4792 - mae: 4.9551 - val_loss: 5.6199 - val_mae: 6.1047\n",
            "Epoch 52/100\n",
            "31/31 [==============================] - 0s 9ms/step - loss: 4.4642 - mae: 4.9422 - val_loss: 5.5333 - val_mae: 6.0188\n",
            "Epoch 53/100\n",
            "31/31 [==============================] - 0s 9ms/step - loss: 4.4805 - mae: 4.9566 - val_loss: 6.2472 - val_mae: 6.7246\n",
            "Epoch 54/100\n",
            "31/31 [==============================] - 0s 10ms/step - loss: 4.5349 - mae: 5.0085 - val_loss: 5.2751 - val_mae: 5.7531\n",
            "Epoch 55/100\n",
            "31/31 [==============================] - 0s 10ms/step - loss: 4.5382 - mae: 5.0151 - val_loss: 5.6074 - val_mae: 6.0941\n",
            "Epoch 56/100\n",
            "31/31 [==============================] - 0s 9ms/step - loss: 4.4331 - mae: 4.9111 - val_loss: 5.1518 - val_mae: 5.6283\n",
            "Epoch 57/100\n",
            "31/31 [==============================] - 0s 9ms/step - loss: 4.6084 - mae: 5.0836 - val_loss: 5.3815 - val_mae: 5.8594\n",
            "Epoch 58/100\n",
            "31/31 [==============================] - 0s 9ms/step - loss: 4.7965 - mae: 5.2752 - val_loss: 6.2643 - val_mae: 6.7419\n",
            "Epoch 59/100\n",
            "31/31 [==============================] - 0s 9ms/step - loss: 4.4844 - mae: 4.9572 - val_loss: 6.8335 - val_mae: 7.3156\n",
            "Epoch 60/100\n",
            "31/31 [==============================] - 0s 10ms/step - loss: 4.4926 - mae: 4.9694 - val_loss: 5.2502 - val_mae: 5.7330\n",
            "Epoch 61/100\n",
            "31/31 [==============================] - 0s 10ms/step - loss: 4.7683 - mae: 5.2457 - val_loss: 6.9650 - val_mae: 7.4512\n",
            "Epoch 62/100\n",
            "31/31 [==============================] - 0s 9ms/step - loss: 4.4520 - mae: 4.9282 - val_loss: 5.8486 - val_mae: 6.3279\n",
            "Epoch 63/100\n",
            "31/31 [==============================] - 0s 10ms/step - loss: 4.4117 - mae: 4.8882 - val_loss: 5.5333 - val_mae: 6.0166\n",
            "Epoch 64/100\n",
            "31/31 [==============================] - 0s 10ms/step - loss: 4.5808 - mae: 5.0606 - val_loss: 5.1273 - val_mae: 5.6056\n",
            "Epoch 65/100\n",
            "31/31 [==============================] - 0s 10ms/step - loss: 4.4318 - mae: 4.9057 - val_loss: 5.6405 - val_mae: 6.1219\n",
            "Epoch 66/100\n",
            "31/31 [==============================] - 1s 15ms/step - loss: 4.4234 - mae: 4.9012 - val_loss: 5.1750 - val_mae: 5.6529\n",
            "Epoch 67/100\n",
            "31/31 [==============================] - 1s 14ms/step - loss: 4.5759 - mae: 5.0536 - val_loss: 6.8767 - val_mae: 7.3632\n",
            "Epoch 68/100\n",
            "31/31 [==============================] - 1s 15ms/step - loss: 4.4906 - mae: 4.9659 - val_loss: 5.2374 - val_mae: 5.7199\n",
            "Epoch 69/100\n",
            "31/31 [==============================] - 1s 15ms/step - loss: 4.4754 - mae: 4.9525 - val_loss: 5.1270 - val_mae: 5.6022\n",
            "Epoch 70/100\n",
            "31/31 [==============================] - 0s 9ms/step - loss: 4.4334 - mae: 4.9099 - val_loss: 5.2526 - val_mae: 5.7298\n",
            "Epoch 71/100\n",
            "31/31 [==============================] - 0s 10ms/step - loss: 4.4288 - mae: 4.9027 - val_loss: 5.6237 - val_mae: 6.1059\n",
            "Epoch 72/100\n",
            "31/31 [==============================] - 0s 10ms/step - loss: 4.4863 - mae: 4.9646 - val_loss: 5.5440 - val_mae: 6.0315\n",
            "Epoch 73/100\n",
            "31/31 [==============================] - 0s 10ms/step - loss: 4.4531 - mae: 4.9303 - val_loss: 5.8790 - val_mae: 6.3583\n",
            "Epoch 74/100\n",
            "31/31 [==============================] - 0s 10ms/step - loss: 4.4552 - mae: 4.9302 - val_loss: 5.4910 - val_mae: 5.9771\n",
            "Epoch 75/100\n",
            "31/31 [==============================] - 0s 10ms/step - loss: 4.4431 - mae: 4.9182 - val_loss: 6.0818 - val_mae: 6.5601\n",
            "Epoch 76/100\n",
            "31/31 [==============================] - 0s 10ms/step - loss: 4.5766 - mae: 5.0525 - val_loss: 5.0970 - val_mae: 5.5721\n",
            "Epoch 77/100\n",
            "31/31 [==============================] - 0s 10ms/step - loss: 4.5179 - mae: 4.9940 - val_loss: 5.2155 - val_mae: 5.6907\n",
            "Epoch 78/100\n",
            "31/31 [==============================] - 0s 11ms/step - loss: 4.5020 - mae: 4.9756 - val_loss: 6.3354 - val_mae: 6.8145\n",
            "Epoch 79/100\n",
            "31/31 [==============================] - 0s 10ms/step - loss: 4.6204 - mae: 5.0906 - val_loss: 5.1653 - val_mae: 5.6398\n",
            "Epoch 80/100\n",
            "31/31 [==============================] - 0s 10ms/step - loss: 4.4173 - mae: 4.8915 - val_loss: 6.8877 - val_mae: 7.3700\n",
            "Epoch 81/100\n",
            "31/31 [==============================] - 0s 10ms/step - loss: 4.5655 - mae: 5.0411 - val_loss: 5.1075 - val_mae: 5.5876\n",
            "Epoch 82/100\n",
            "31/31 [==============================] - 0s 9ms/step - loss: 4.4270 - mae: 4.9001 - val_loss: 5.2119 - val_mae: 5.6874\n",
            "Epoch 83/100\n",
            "31/31 [==============================] - 0s 10ms/step - loss: 4.4774 - mae: 4.9526 - val_loss: 5.4523 - val_mae: 5.9356\n",
            "Epoch 84/100\n",
            "31/31 [==============================] - 0s 9ms/step - loss: 4.3847 - mae: 4.8606 - val_loss: 5.1396 - val_mae: 5.6173\n",
            "Epoch 85/100\n",
            "31/31 [==============================] - 0s 10ms/step - loss: 4.5048 - mae: 4.9789 - val_loss: 5.1882 - val_mae: 5.6664\n",
            "Epoch 86/100\n",
            "31/31 [==============================] - 0s 10ms/step - loss: 4.4564 - mae: 4.9329 - val_loss: 5.5325 - val_mae: 6.0147\n",
            "Epoch 87/100\n",
            "31/31 [==============================] - 0s 10ms/step - loss: 4.4591 - mae: 4.9301 - val_loss: 5.3453 - val_mae: 5.8280\n",
            "Epoch 88/100\n",
            "31/31 [==============================] - 0s 9ms/step - loss: 4.5387 - mae: 5.0182 - val_loss: 5.2735 - val_mae: 5.7555\n",
            "Epoch 89/100\n",
            "31/31 [==============================] - 1s 16ms/step - loss: 4.4088 - mae: 4.8865 - val_loss: 5.8734 - val_mae: 6.3537\n",
            "Epoch 90/100\n",
            "31/31 [==============================] - 1s 15ms/step - loss: 4.4011 - mae: 4.8740 - val_loss: 5.5028 - val_mae: 5.9830\n",
            "Epoch 91/100\n",
            "31/31 [==============================] - 1s 10ms/step - loss: 4.6205 - mae: 5.0973 - val_loss: 5.2066 - val_mae: 5.6867\n",
            "Epoch 92/100\n",
            "31/31 [==============================] - 0s 9ms/step - loss: 4.4436 - mae: 4.9217 - val_loss: 5.2276 - val_mae: 5.7053\n",
            "Epoch 93/100\n",
            "31/31 [==============================] - 0s 10ms/step - loss: 4.5249 - mae: 5.0033 - val_loss: 5.0401 - val_mae: 5.5176\n",
            "Epoch 94/100\n",
            "31/31 [==============================] - 0s 10ms/step - loss: 4.7415 - mae: 5.2161 - val_loss: 5.7858 - val_mae: 6.2660\n",
            "Epoch 95/100\n",
            "31/31 [==============================] - 0s 10ms/step - loss: 4.4294 - mae: 4.9059 - val_loss: 5.8586 - val_mae: 6.3387\n",
            "Epoch 96/100\n",
            "31/31 [==============================] - 0s 10ms/step - loss: 4.4483 - mae: 4.9265 - val_loss: 5.1934 - val_mae: 5.6747\n",
            "Epoch 97/100\n",
            "31/31 [==============================] - 0s 10ms/step - loss: 4.4031 - mae: 4.8807 - val_loss: 5.9029 - val_mae: 6.3833\n",
            "Epoch 98/100\n",
            "31/31 [==============================] - 0s 10ms/step - loss: 4.4967 - mae: 4.9723 - val_loss: 5.3767 - val_mae: 5.8619\n",
            "Epoch 99/100\n",
            "31/31 [==============================] - 0s 13ms/step - loss: 4.3604 - mae: 4.8391 - val_loss: 4.9699 - val_mae: 5.4454\n",
            "Epoch 100/100\n",
            "31/31 [==============================] - 1s 15ms/step - loss: 4.3625 - mae: 4.8378 - val_loss: 5.0760 - val_mae: 5.5549\n"
          ]
        }
      ],
      "source": [
        "# Reset states generated by Keras\n",
        "tf.keras.backend.clear_session()\n",
        "\n",
        "# Build the model\n",
        "model = tf.keras.models.Sequential([\n",
        "  tf.keras.layers.Lambda(lambda x: tf.expand_dims(x, axis=-1),\n",
        "                      input_shape=[None]),\n",
        "  tf.keras.layers.LSTM(64, return_sequences=True),\n",
        "  tf.keras.layers.LSTM(64),\n",
        "  tf.keras.layers.Dense(1),\n",
        "  tf.keras.layers.Lambda(lambda x: x * 100.0)\n",
        "])\n",
        "\n",
        "# Set the learning rate\n",
        "learning_rate = 4e-6\n",
        "\n",
        "# Set the optimizer \n",
        "optimizer = tf.keras.optimizers.SGD(learning_rate=learning_rate, momentum=0.9)\n",
        "\n",
        "# Set the training parameters\n",
        "model.compile(loss=tf.keras.losses.Huber(),\n",
        "              optimizer=optimizer,\n",
        "              metrics=[\"mae\"])\n",
        "\n",
        "# Train the model\n",
        "history = model.fit(dataset,epochs=100, validation_data=val_set)"
      ]
    }
  ],
  "metadata": {
    "accelerator": "GPU",
    "colab": {
      "provenance": []
    },
    "kernelspec": {
      "display_name": "Python 3",
      "language": "python",
      "name": "python3"
    },
    "language_info": {
      "codemirror_mode": {
        "name": "ipython",
        "version": 3
      },
      "file_extension": ".py",
      "mimetype": "text/x-python",
      "name": "python",
      "nbconvert_exporter": "python",
      "pygments_lexer": "ipython3",
      "version": "3.7.4"
    },
    "gpuClass": "standard"
  },
  "nbformat": 4,
  "nbformat_minor": 0
}