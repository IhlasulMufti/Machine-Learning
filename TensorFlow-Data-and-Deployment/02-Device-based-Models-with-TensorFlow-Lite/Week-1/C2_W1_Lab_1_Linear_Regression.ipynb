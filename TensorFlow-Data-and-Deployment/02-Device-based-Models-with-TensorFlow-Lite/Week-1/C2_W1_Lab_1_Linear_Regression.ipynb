{
  "nbformat": 4,
  "nbformat_minor": 0,
  "metadata": {
    "accelerator": "GPU",
    "colab": {
      "provenance": [],
      "gpuType": "T4"
    },
    "kernelspec": {
      "display_name": "Python 3",
      "language": "python",
      "name": "python3"
    },
    "language_info": {
      "codemirror_mode": {
        "name": "ipython",
        "version": 3
      },
      "file_extension": ".py",
      "mimetype": "text/x-python",
      "name": "python",
      "nbconvert_exporter": "python",
      "pygments_lexer": "ipython3",
      "version": "3.8.5"
    },
    "gpuClass": "standard"
  },
  "cells": [
    {
      "cell_type": "code",
      "metadata": {
        "id": "zX4Kg8DUTKWO"
      },
      "source": [
        "#@title Licensed under the Apache License, Version 2.0 (the \"License\");\n",
        "# you may not use this file except in compliance with the License.\n",
        "# You may obtain a copy of the License at\n",
        "#\n",
        "# https://www.apache.org/licenses/LICENSE-2.0\n",
        "#\n",
        "# Unless required by applicable law or agreed to in writing, software\n",
        "# distributed under the License is distributed on an \"AS IS\" BASIS,\n",
        "# WITHOUT WARRANTIES OR CONDITIONS OF ANY KIND, either express or implied.\n",
        "# See the License for the specific language governing permissions and\n",
        "# limitations under the License."
      ],
      "execution_count": null,
      "outputs": []
    },
    {
      "cell_type": "markdown",
      "metadata": {
        "id": "Za8-Nr5k11fh"
      },
      "source": [
        "##### Copyright 2018 The TensorFlow Authors."
      ]
    },
    {
      "cell_type": "code",
      "metadata": {
        "id": "Eq10uEbw0E4l"
      },
      "source": [
        "#@title Licensed under the Apache License, Version 2.0 (the \"License\");\n",
        "# you may not use this file except in compliance with the License.\n",
        "# You may obtain a copy of the License at\n",
        "#\n",
        "# https://www.apache.org/licenses/LICENSE-2.0\n",
        "#\n",
        "# Unless required by applicable law or agreed to in writing, software\n",
        "# distributed under the License is distributed on an \"AS IS\" BASIS,\n",
        "# WITHOUT WARRANTIES OR CONDITIONS OF ANY KIND, either express or implied.\n",
        "# See the License for the specific language governing permissions and\n",
        "# limitations under the License."
      ],
      "execution_count": null,
      "outputs": []
    },
    {
      "cell_type": "markdown",
      "metadata": {
        "id": "UysiGN3tGQHY"
      },
      "source": [
        "# Running TFLite Models"
      ]
    },
    {
      "cell_type": "markdown",
      "metadata": {
        "id": "W-VhTkyTGcaQ"
      },
      "source": [
        "## Setup"
      ]
    },
    {
      "cell_type": "code",
      "metadata": {
        "id": "Ll4ii2J9Fea_",
        "colab": {
          "base_uri": "https://localhost:8080/"
        },
        "outputId": "d8844746-f92b-4e44-8597-1ec256302072"
      },
      "source": [
        "try:\n",
        "    %tensorflow_version 2.x\n",
        "except:\n",
        "    pass"
      ],
      "execution_count": 1,
      "outputs": [
        {
          "output_type": "stream",
          "name": "stdout",
          "text": [
            "Colab only includes TensorFlow 2.x; %tensorflow_version has no effect.\n"
          ]
        }
      ]
    },
    {
      "cell_type": "code",
      "metadata": {
        "id": "dy4BcTjBFTWx",
        "colab": {
          "base_uri": "https://localhost:8080/"
        },
        "outputId": "db786f27-812e-44ca-94f6-4f655c56ee89"
      },
      "source": [
        "import pathlib\n",
        "import numpy as np\n",
        "import matplotlib.pyplot as plt\n",
        "\n",
        "import tensorflow as tf\n",
        "\n",
        "print('\\u2022 Using TensorFlow Version:', tf.__version__)"
      ],
      "execution_count": 2,
      "outputs": [
        {
          "output_type": "stream",
          "name": "stdout",
          "text": [
            "• Using TensorFlow Version: 2.12.0\n"
          ]
        }
      ]
    },
    {
      "cell_type": "markdown",
      "metadata": {
        "id": "ceibQLDeGhI4"
      },
      "source": [
        "## Create a Basic Model of the Form y = mx + c"
      ]
    },
    {
      "cell_type": "code",
      "metadata": {
        "id": "YIBCsjQNF46Z",
        "colab": {
          "base_uri": "https://localhost:8080/"
        },
        "outputId": "d73517e9-50d4-440c-9a03-be3f6cf14cfa"
      },
      "source": [
        "# Create a simple Keras model.\n",
        "x = [-1, 0, 1, 2, 3, 4]\n",
        "y = [-3, -1, 1, 3, 5, 7]\n",
        "\n",
        "model = tf.keras.models.Sequential([\n",
        "        tf.keras.layers.Dense(units=1, input_shape=[1])\n",
        "])\n",
        "\n",
        "model.compile(optimizer='sgd',\n",
        "              loss='mean_squared_error')\n",
        "\n",
        "model.fit(x, y, epochs=200)"
      ],
      "execution_count": 3,
      "outputs": [
        {
          "output_type": "stream",
          "name": "stdout",
          "text": [
            "Epoch 1/200\n",
            "1/1 [==============================] - 6s 6s/step - loss: 28.1837\n",
            "Epoch 2/200\n",
            "1/1 [==============================] - 0s 14ms/step - loss: 22.4784\n",
            "Epoch 3/200\n",
            "1/1 [==============================] - 0s 19ms/step - loss: 17.9835\n",
            "Epoch 4/200\n",
            "1/1 [==============================] - 0s 21ms/step - loss: 14.4410\n",
            "Epoch 5/200\n",
            "1/1 [==============================] - 0s 11ms/step - loss: 11.6479\n",
            "Epoch 6/200\n",
            "1/1 [==============================] - 0s 61ms/step - loss: 9.4445\n",
            "Epoch 7/200\n",
            "1/1 [==============================] - 0s 35ms/step - loss: 7.7053\n",
            "Epoch 8/200\n",
            "1/1 [==============================] - 0s 23ms/step - loss: 6.3313\n",
            "Epoch 9/200\n",
            "1/1 [==============================] - 0s 21ms/step - loss: 5.2448\n",
            "Epoch 10/200\n",
            "1/1 [==============================] - 0s 36ms/step - loss: 4.3845\n",
            "Epoch 11/200\n",
            "1/1 [==============================] - 0s 32ms/step - loss: 3.7024\n",
            "Epoch 12/200\n",
            "1/1 [==============================] - 0s 22ms/step - loss: 3.1606\n",
            "Epoch 13/200\n",
            "1/1 [==============================] - 0s 22ms/step - loss: 2.7292\n",
            "Epoch 14/200\n",
            "1/1 [==============================] - 0s 21ms/step - loss: 2.3849\n",
            "Epoch 15/200\n",
            "1/1 [==============================] - 0s 18ms/step - loss: 2.1090\n",
            "Epoch 16/200\n",
            "1/1 [==============================] - 0s 16ms/step - loss: 1.8873\n",
            "Epoch 17/200\n",
            "1/1 [==============================] - 0s 37ms/step - loss: 1.7081\n",
            "Epoch 18/200\n",
            "1/1 [==============================] - 0s 16ms/step - loss: 1.5625\n",
            "Epoch 19/200\n",
            "1/1 [==============================] - 0s 15ms/step - loss: 1.4435\n",
            "Epoch 20/200\n",
            "1/1 [==============================] - 0s 15ms/step - loss: 1.3455\n",
            "Epoch 21/200\n",
            "1/1 [==============================] - 0s 23ms/step - loss: 1.2641\n",
            "Epoch 22/200\n",
            "1/1 [==============================] - 0s 29ms/step - loss: 1.1958\n",
            "Epoch 23/200\n",
            "1/1 [==============================] - 0s 24ms/step - loss: 1.1379\n",
            "Epoch 24/200\n",
            "1/1 [==============================] - 0s 12ms/step - loss: 1.0884\n",
            "Epoch 25/200\n",
            "1/1 [==============================] - 0s 27ms/step - loss: 1.0454\n",
            "Epoch 26/200\n",
            "1/1 [==============================] - 0s 25ms/step - loss: 1.0077\n",
            "Epoch 27/200\n",
            "1/1 [==============================] - 0s 26ms/step - loss: 0.9743\n",
            "Epoch 28/200\n",
            "1/1 [==============================] - 0s 24ms/step - loss: 0.9442\n",
            "Epoch 29/200\n",
            "1/1 [==============================] - 0s 33ms/step - loss: 0.9169\n",
            "Epoch 30/200\n",
            "1/1 [==============================] - 0s 19ms/step - loss: 0.8919\n",
            "Epoch 31/200\n",
            "1/1 [==============================] - 0s 14ms/step - loss: 0.8687\n",
            "Epoch 32/200\n",
            "1/1 [==============================] - 0s 17ms/step - loss: 0.8470\n",
            "Epoch 33/200\n",
            "1/1 [==============================] - 0s 14ms/step - loss: 0.8266\n",
            "Epoch 34/200\n",
            "1/1 [==============================] - 0s 14ms/step - loss: 0.8072\n",
            "Epoch 35/200\n",
            "1/1 [==============================] - 0s 17ms/step - loss: 0.7887\n",
            "Epoch 36/200\n",
            "1/1 [==============================] - 0s 56ms/step - loss: 0.7711\n",
            "Epoch 37/200\n",
            "1/1 [==============================] - 0s 27ms/step - loss: 0.7541\n",
            "Epoch 38/200\n",
            "1/1 [==============================] - 0s 13ms/step - loss: 0.7377\n",
            "Epoch 39/200\n",
            "1/1 [==============================] - 0s 11ms/step - loss: 0.7218\n",
            "Epoch 40/200\n",
            "1/1 [==============================] - 0s 14ms/step - loss: 0.7064\n",
            "Epoch 41/200\n",
            "1/1 [==============================] - 0s 14ms/step - loss: 0.6915\n",
            "Epoch 42/200\n",
            "1/1 [==============================] - 0s 11ms/step - loss: 0.6769\n",
            "Epoch 43/200\n",
            "1/1 [==============================] - 0s 13ms/step - loss: 0.6627\n",
            "Epoch 44/200\n",
            "1/1 [==============================] - 0s 10ms/step - loss: 0.6489\n",
            "Epoch 45/200\n",
            "1/1 [==============================] - 0s 12ms/step - loss: 0.6354\n",
            "Epoch 46/200\n",
            "1/1 [==============================] - 0s 11ms/step - loss: 0.6222\n",
            "Epoch 47/200\n",
            "1/1 [==============================] - 0s 10ms/step - loss: 0.6093\n",
            "Epoch 48/200\n",
            "1/1 [==============================] - 0s 10ms/step - loss: 0.5967\n",
            "Epoch 49/200\n",
            "1/1 [==============================] - 0s 9ms/step - loss: 0.5844\n",
            "Epoch 50/200\n",
            "1/1 [==============================] - 0s 12ms/step - loss: 0.5723\n",
            "Epoch 51/200\n",
            "1/1 [==============================] - 0s 11ms/step - loss: 0.5606\n",
            "Epoch 52/200\n",
            "1/1 [==============================] - 0s 12ms/step - loss: 0.5490\n",
            "Epoch 53/200\n",
            "1/1 [==============================] - 0s 11ms/step - loss: 0.5377\n",
            "Epoch 54/200\n",
            "1/1 [==============================] - 0s 12ms/step - loss: 0.5266\n",
            "Epoch 55/200\n",
            "1/1 [==============================] - 0s 14ms/step - loss: 0.5158\n",
            "Epoch 56/200\n",
            "1/1 [==============================] - 0s 12ms/step - loss: 0.5052\n",
            "Epoch 57/200\n",
            "1/1 [==============================] - 0s 10ms/step - loss: 0.4948\n",
            "Epoch 58/200\n",
            "1/1 [==============================] - 0s 12ms/step - loss: 0.4846\n",
            "Epoch 59/200\n",
            "1/1 [==============================] - 0s 12ms/step - loss: 0.4747\n",
            "Epoch 60/200\n",
            "1/1 [==============================] - 0s 18ms/step - loss: 0.4649\n",
            "Epoch 61/200\n",
            "1/1 [==============================] - 0s 9ms/step - loss: 0.4554\n",
            "Epoch 62/200\n",
            "1/1 [==============================] - 0s 9ms/step - loss: 0.4460\n",
            "Epoch 63/200\n",
            "1/1 [==============================] - 0s 9ms/step - loss: 0.4369\n",
            "Epoch 64/200\n",
            "1/1 [==============================] - 0s 8ms/step - loss: 0.4279\n",
            "Epoch 65/200\n",
            "1/1 [==============================] - 0s 12ms/step - loss: 0.4191\n",
            "Epoch 66/200\n",
            "1/1 [==============================] - 0s 12ms/step - loss: 0.4105\n",
            "Epoch 67/200\n",
            "1/1 [==============================] - 0s 12ms/step - loss: 0.4020\n",
            "Epoch 68/200\n",
            "1/1 [==============================] - 0s 10ms/step - loss: 0.3938\n",
            "Epoch 69/200\n",
            "1/1 [==============================] - 0s 16ms/step - loss: 0.3857\n",
            "Epoch 70/200\n",
            "1/1 [==============================] - 0s 10ms/step - loss: 0.3778\n",
            "Epoch 71/200\n",
            "1/1 [==============================] - 0s 13ms/step - loss: 0.3700\n",
            "Epoch 72/200\n",
            "1/1 [==============================] - 0s 10ms/step - loss: 0.3624\n",
            "Epoch 73/200\n",
            "1/1 [==============================] - 0s 10ms/step - loss: 0.3550\n",
            "Epoch 74/200\n",
            "1/1 [==============================] - 0s 10ms/step - loss: 0.3477\n",
            "Epoch 75/200\n",
            "1/1 [==============================] - 0s 10ms/step - loss: 0.3405\n",
            "Epoch 76/200\n",
            "1/1 [==============================] - 0s 10ms/step - loss: 0.3335\n",
            "Epoch 77/200\n",
            "1/1 [==============================] - 0s 11ms/step - loss: 0.3267\n",
            "Epoch 78/200\n",
            "1/1 [==============================] - 0s 10ms/step - loss: 0.3200\n",
            "Epoch 79/200\n",
            "1/1 [==============================] - 0s 10ms/step - loss: 0.3134\n",
            "Epoch 80/200\n",
            "1/1 [==============================] - 0s 10ms/step - loss: 0.3070\n",
            "Epoch 81/200\n",
            "1/1 [==============================] - 0s 11ms/step - loss: 0.3007\n",
            "Epoch 82/200\n",
            "1/1 [==============================] - 0s 10ms/step - loss: 0.2945\n",
            "Epoch 83/200\n",
            "1/1 [==============================] - 0s 10ms/step - loss: 0.2884\n",
            "Epoch 84/200\n",
            "1/1 [==============================] - 0s 9ms/step - loss: 0.2825\n",
            "Epoch 85/200\n",
            "1/1 [==============================] - 0s 11ms/step - loss: 0.2767\n",
            "Epoch 86/200\n",
            "1/1 [==============================] - 0s 10ms/step - loss: 0.2710\n",
            "Epoch 87/200\n",
            "1/1 [==============================] - 0s 10ms/step - loss: 0.2655\n",
            "Epoch 88/200\n",
            "1/1 [==============================] - 0s 10ms/step - loss: 0.2600\n",
            "Epoch 89/200\n",
            "1/1 [==============================] - 0s 10ms/step - loss: 0.2547\n",
            "Epoch 90/200\n",
            "1/1 [==============================] - 0s 12ms/step - loss: 0.2494\n",
            "Epoch 91/200\n",
            "1/1 [==============================] - 0s 10ms/step - loss: 0.2443\n",
            "Epoch 92/200\n",
            "1/1 [==============================] - 0s 10ms/step - loss: 0.2393\n",
            "Epoch 93/200\n",
            "1/1 [==============================] - 0s 11ms/step - loss: 0.2344\n",
            "Epoch 94/200\n",
            "1/1 [==============================] - 0s 11ms/step - loss: 0.2296\n",
            "Epoch 95/200\n",
            "1/1 [==============================] - 0s 19ms/step - loss: 0.2248\n",
            "Epoch 96/200\n",
            "1/1 [==============================] - 0s 10ms/step - loss: 0.2202\n",
            "Epoch 97/200\n",
            "1/1 [==============================] - 0s 10ms/step - loss: 0.2157\n",
            "Epoch 98/200\n",
            "1/1 [==============================] - 0s 12ms/step - loss: 0.2113\n",
            "Epoch 99/200\n",
            "1/1 [==============================] - 0s 11ms/step - loss: 0.2069\n",
            "Epoch 100/200\n",
            "1/1 [==============================] - 0s 10ms/step - loss: 0.2027\n",
            "Epoch 101/200\n",
            "1/1 [==============================] - 0s 10ms/step - loss: 0.1985\n",
            "Epoch 102/200\n",
            "1/1 [==============================] - 0s 11ms/step - loss: 0.1944\n",
            "Epoch 103/200\n",
            "1/1 [==============================] - 0s 10ms/step - loss: 0.1905\n",
            "Epoch 104/200\n",
            "1/1 [==============================] - 0s 12ms/step - loss: 0.1865\n",
            "Epoch 105/200\n",
            "1/1 [==============================] - 0s 10ms/step - loss: 0.1827\n",
            "Epoch 106/200\n",
            "1/1 [==============================] - 0s 10ms/step - loss: 0.1790\n",
            "Epoch 107/200\n",
            "1/1 [==============================] - 0s 10ms/step - loss: 0.1753\n",
            "Epoch 108/200\n",
            "1/1 [==============================] - 0s 10ms/step - loss: 0.1717\n",
            "Epoch 109/200\n",
            "1/1 [==============================] - 0s 11ms/step - loss: 0.1682\n",
            "Epoch 110/200\n",
            "1/1 [==============================] - 0s 10ms/step - loss: 0.1647\n",
            "Epoch 111/200\n",
            "1/1 [==============================] - 0s 9ms/step - loss: 0.1613\n",
            "Epoch 112/200\n",
            "1/1 [==============================] - 0s 10ms/step - loss: 0.1580\n",
            "Epoch 113/200\n",
            "1/1 [==============================] - 0s 10ms/step - loss: 0.1548\n",
            "Epoch 114/200\n",
            "1/1 [==============================] - 0s 10ms/step - loss: 0.1516\n",
            "Epoch 115/200\n",
            "1/1 [==============================] - 0s 10ms/step - loss: 0.1485\n",
            "Epoch 116/200\n",
            "1/1 [==============================] - 0s 11ms/step - loss: 0.1454\n",
            "Epoch 117/200\n",
            "1/1 [==============================] - 0s 10ms/step - loss: 0.1424\n",
            "Epoch 118/200\n",
            "1/1 [==============================] - 0s 10ms/step - loss: 0.1395\n",
            "Epoch 119/200\n",
            "1/1 [==============================] - 0s 10ms/step - loss: 0.1366\n",
            "Epoch 120/200\n",
            "1/1 [==============================] - 0s 10ms/step - loss: 0.1338\n",
            "Epoch 121/200\n",
            "1/1 [==============================] - 0s 8ms/step - loss: 0.1311\n",
            "Epoch 122/200\n",
            "1/1 [==============================] - 0s 16ms/step - loss: 0.1284\n",
            "Epoch 123/200\n",
            "1/1 [==============================] - 0s 10ms/step - loss: 0.1258\n",
            "Epoch 124/200\n",
            "1/1 [==============================] - 0s 11ms/step - loss: 0.1232\n",
            "Epoch 125/200\n",
            "1/1 [==============================] - 0s 8ms/step - loss: 0.1206\n",
            "Epoch 126/200\n",
            "1/1 [==============================] - 0s 10ms/step - loss: 0.1182\n",
            "Epoch 127/200\n",
            "1/1 [==============================] - 0s 10ms/step - loss: 0.1157\n",
            "Epoch 128/200\n",
            "1/1 [==============================] - 0s 10ms/step - loss: 0.1134\n",
            "Epoch 129/200\n",
            "1/1 [==============================] - 0s 10ms/step - loss: 0.1110\n",
            "Epoch 130/200\n",
            "1/1 [==============================] - 0s 10ms/step - loss: 0.1087\n",
            "Epoch 131/200\n",
            "1/1 [==============================] - 0s 10ms/step - loss: 0.1065\n",
            "Epoch 132/200\n",
            "1/1 [==============================] - 0s 10ms/step - loss: 0.1043\n",
            "Epoch 133/200\n",
            "1/1 [==============================] - 0s 8ms/step - loss: 0.1022\n",
            "Epoch 134/200\n",
            "1/1 [==============================] - 0s 9ms/step - loss: 0.1001\n",
            "Epoch 135/200\n",
            "1/1 [==============================] - 0s 10ms/step - loss: 0.0980\n",
            "Epoch 136/200\n",
            "1/1 [==============================] - 0s 12ms/step - loss: 0.0960\n",
            "Epoch 137/200\n",
            "1/1 [==============================] - 0s 10ms/step - loss: 0.0940\n",
            "Epoch 138/200\n",
            "1/1 [==============================] - 0s 10ms/step - loss: 0.0921\n",
            "Epoch 139/200\n",
            "1/1 [==============================] - 0s 10ms/step - loss: 0.0902\n",
            "Epoch 140/200\n",
            "1/1 [==============================] - 0s 11ms/step - loss: 0.0884\n",
            "Epoch 141/200\n",
            "1/1 [==============================] - 0s 10ms/step - loss: 0.0865\n",
            "Epoch 142/200\n",
            "1/1 [==============================] - 0s 9ms/step - loss: 0.0848\n",
            "Epoch 143/200\n",
            "1/1 [==============================] - 0s 10ms/step - loss: 0.0830\n",
            "Epoch 144/200\n",
            "1/1 [==============================] - 0s 10ms/step - loss: 0.0813\n",
            "Epoch 145/200\n",
            "1/1 [==============================] - 0s 10ms/step - loss: 0.0797\n",
            "Epoch 146/200\n",
            "1/1 [==============================] - 0s 10ms/step - loss: 0.0780\n",
            "Epoch 147/200\n",
            "1/1 [==============================] - 0s 10ms/step - loss: 0.0764\n",
            "Epoch 148/200\n",
            "1/1 [==============================] - 0s 10ms/step - loss: 0.0748\n",
            "Epoch 149/200\n",
            "1/1 [==============================] - 0s 11ms/step - loss: 0.0733\n",
            "Epoch 150/200\n",
            "1/1 [==============================] - 0s 10ms/step - loss: 0.0718\n",
            "Epoch 151/200\n",
            "1/1 [==============================] - 0s 10ms/step - loss: 0.0703\n",
            "Epoch 152/200\n",
            "1/1 [==============================] - 0s 13ms/step - loss: 0.0689\n",
            "Epoch 153/200\n",
            "1/1 [==============================] - 0s 11ms/step - loss: 0.0675\n",
            "Epoch 154/200\n",
            "1/1 [==============================] - 0s 11ms/step - loss: 0.0661\n",
            "Epoch 155/200\n",
            "1/1 [==============================] - 0s 10ms/step - loss: 0.0647\n",
            "Epoch 156/200\n",
            "1/1 [==============================] - 0s 11ms/step - loss: 0.0634\n",
            "Epoch 157/200\n",
            "1/1 [==============================] - 0s 12ms/step - loss: 0.0621\n",
            "Epoch 158/200\n",
            "1/1 [==============================] - 0s 11ms/step - loss: 0.0608\n",
            "Epoch 159/200\n",
            "1/1 [==============================] - 0s 10ms/step - loss: 0.0596\n",
            "Epoch 160/200\n",
            "1/1 [==============================] - 0s 10ms/step - loss: 0.0583\n",
            "Epoch 161/200\n",
            "1/1 [==============================] - 0s 10ms/step - loss: 0.0571\n",
            "Epoch 162/200\n",
            "1/1 [==============================] - 0s 10ms/step - loss: 0.0560\n",
            "Epoch 163/200\n",
            "1/1 [==============================] - 0s 11ms/step - loss: 0.0548\n",
            "Epoch 164/200\n",
            "1/1 [==============================] - 0s 10ms/step - loss: 0.0537\n",
            "Epoch 165/200\n",
            "1/1 [==============================] - 0s 12ms/step - loss: 0.0526\n",
            "Epoch 166/200\n",
            "1/1 [==============================] - 0s 11ms/step - loss: 0.0515\n",
            "Epoch 167/200\n",
            "1/1 [==============================] - 0s 9ms/step - loss: 0.0505\n",
            "Epoch 168/200\n",
            "1/1 [==============================] - 0s 8ms/step - loss: 0.0494\n",
            "Epoch 169/200\n",
            "1/1 [==============================] - 0s 11ms/step - loss: 0.0484\n",
            "Epoch 170/200\n",
            "1/1 [==============================] - 0s 11ms/step - loss: 0.0474\n",
            "Epoch 171/200\n",
            "1/1 [==============================] - 0s 12ms/step - loss: 0.0464\n",
            "Epoch 172/200\n",
            "1/1 [==============================] - 0s 12ms/step - loss: 0.0455\n",
            "Epoch 173/200\n",
            "1/1 [==============================] - 0s 11ms/step - loss: 0.0445\n",
            "Epoch 174/200\n",
            "1/1 [==============================] - 0s 11ms/step - loss: 0.0436\n",
            "Epoch 175/200\n",
            "1/1 [==============================] - 0s 11ms/step - loss: 0.0427\n",
            "Epoch 176/200\n",
            "1/1 [==============================] - 0s 9ms/step - loss: 0.0419\n",
            "Epoch 177/200\n",
            "1/1 [==============================] - 0s 10ms/step - loss: 0.0410\n",
            "Epoch 178/200\n",
            "1/1 [==============================] - 0s 10ms/step - loss: 0.0402\n",
            "Epoch 179/200\n",
            "1/1 [==============================] - 0s 11ms/step - loss: 0.0393\n",
            "Epoch 180/200\n",
            "1/1 [==============================] - 0s 10ms/step - loss: 0.0385\n",
            "Epoch 181/200\n",
            "1/1 [==============================] - 0s 9ms/step - loss: 0.0377\n",
            "Epoch 182/200\n",
            "1/1 [==============================] - 0s 10ms/step - loss: 0.0370\n",
            "Epoch 183/200\n",
            "1/1 [==============================] - 0s 11ms/step - loss: 0.0362\n",
            "Epoch 184/200\n",
            "1/1 [==============================] - 0s 11ms/step - loss: 0.0355\n",
            "Epoch 185/200\n",
            "1/1 [==============================] - 0s 11ms/step - loss: 0.0347\n",
            "Epoch 186/200\n",
            "1/1 [==============================] - 0s 10ms/step - loss: 0.0340\n",
            "Epoch 187/200\n",
            "1/1 [==============================] - 0s 11ms/step - loss: 0.0333\n",
            "Epoch 188/200\n",
            "1/1 [==============================] - 0s 11ms/step - loss: 0.0326\n",
            "Epoch 189/200\n",
            "1/1 [==============================] - 0s 12ms/step - loss: 0.0320\n",
            "Epoch 190/200\n",
            "1/1 [==============================] - 0s 10ms/step - loss: 0.0313\n",
            "Epoch 191/200\n",
            "1/1 [==============================] - 0s 19ms/step - loss: 0.0307\n",
            "Epoch 192/200\n",
            "1/1 [==============================] - 0s 9ms/step - loss: 0.0300\n",
            "Epoch 193/200\n",
            "1/1 [==============================] - 0s 11ms/step - loss: 0.0294\n",
            "Epoch 194/200\n",
            "1/1 [==============================] - 0s 12ms/step - loss: 0.0288\n",
            "Epoch 195/200\n",
            "1/1 [==============================] - 0s 12ms/step - loss: 0.0282\n",
            "Epoch 196/200\n",
            "1/1 [==============================] - 0s 8ms/step - loss: 0.0276\n",
            "Epoch 197/200\n",
            "1/1 [==============================] - 0s 11ms/step - loss: 0.0271\n",
            "Epoch 198/200\n",
            "1/1 [==============================] - 0s 11ms/step - loss: 0.0265\n",
            "Epoch 199/200\n",
            "1/1 [==============================] - 0s 10ms/step - loss: 0.0260\n",
            "Epoch 200/200\n",
            "1/1 [==============================] - 0s 10ms/step - loss: 0.0254\n"
          ]
        },
        {
          "output_type": "execute_result",
          "data": {
            "text/plain": [
              "<keras.callbacks.History at 0x7f9ff02d3b80>"
            ]
          },
          "metadata": {},
          "execution_count": 3
        }
      ]
    },
    {
      "cell_type": "markdown",
      "metadata": {
        "id": "EjsB-QICGt6L"
      },
      "source": [
        "## Generate a SavedModel"
      ]
    },
    {
      "cell_type": "code",
      "metadata": {
        "id": "a9xcbK7QHOfm"
      },
      "source": [
        "export_dir = 'saved_model/1'\n",
        "tf.saved_model.save(model, export_dir)"
      ],
      "execution_count": 4,
      "outputs": []
    },
    {
      "cell_type": "markdown",
      "metadata": {
        "id": "RRtsNwkiGxcO"
      },
      "source": [
        "## Convert the SavedModel to TFLite"
      ]
    },
    {
      "cell_type": "code",
      "metadata": {
        "id": "TtM8yKTVTpD3"
      },
      "source": [
        "# Convert the model.\n",
        "converter = tf.lite.TFLiteConverter.from_saved_model(export_dir)\n",
        "tflite_model = converter.convert()"
      ],
      "execution_count": 5,
      "outputs": []
    },
    {
      "cell_type": "code",
      "metadata": {
        "id": "4idYulcNHTdO",
        "colab": {
          "base_uri": "https://localhost:8080/"
        },
        "outputId": "df4686af-b667-45ba-c6e1-33476edd5dc9"
      },
      "source": [
        "tflite_model_file = pathlib.Path('model.tflite')\n",
        "tflite_model_file.write_bytes(tflite_model)"
      ],
      "execution_count": 6,
      "outputs": [
        {
          "output_type": "execute_result",
          "data": {
            "text/plain": [
              "1080"
            ]
          },
          "metadata": {},
          "execution_count": 6
        }
      ]
    },
    {
      "cell_type": "markdown",
      "metadata": {
        "id": "HgGvp2yBG25Q"
      },
      "source": [
        "## Initialize the TFLite Interpreter To Try It Out"
      ]
    },
    {
      "cell_type": "code",
      "metadata": {
        "id": "DOt94wIWF8m7"
      },
      "source": [
        "# Load TFLite model and allocate tensors.\n",
        "interpreter = tf.lite.Interpreter(model_content=tflite_model)\n",
        "interpreter.allocate_tensors()\n",
        "\n",
        "# Get input and output tensors.\n",
        "input_details = interpreter.get_input_details()\n",
        "output_details = interpreter.get_output_details()"
      ],
      "execution_count": 7,
      "outputs": []
    },
    {
      "cell_type": "code",
      "metadata": {
        "id": "JGYkEK08F8qK"
      },
      "source": [
        "# Test the TensorFlow Lite model on random input data.\n",
        "input_shape = input_details[0]['shape']\n",
        "inputs, outputs = [], []\n",
        "for _ in range(100):\n",
        "    input_data = np.array(np.random.random_sample(input_shape), dtype=np.float32)\n",
        "    interpreter.set_tensor(input_details[0]['index'], input_data)\n",
        "    \n",
        "    interpreter.invoke()\n",
        "    tflite_results = interpreter.get_tensor(output_details[0]['index'])\n",
        "    \n",
        "    # Test the TensorFlow model on random input data.\n",
        "    tf_results = model(tf.constant(input_data))\n",
        "    output_data = np.array(tf_results)\n",
        "    \n",
        "    inputs.append(input_data[0][0])\n",
        "    outputs.append(output_data[0][0])"
      ],
      "execution_count": 8,
      "outputs": []
    },
    {
      "cell_type": "markdown",
      "metadata": {
        "id": "t1gQGH1KWAgW"
      },
      "source": [
        "## Visualize the Model"
      ]
    },
    {
      "cell_type": "code",
      "metadata": {
        "id": "ccvQ1mEJVrqo",
        "colab": {
          "base_uri": "https://localhost:8080/",
          "height": 430
        },
        "outputId": "05e425d6-1225-42f0-e46b-e3259c0276b5"
      },
      "source": [
        "%matplotlib inline\n",
        "\n",
        "plt.plot(inputs, outputs, 'r')\n",
        "plt.show()"
      ],
      "execution_count": 9,
      "outputs": [
        {
          "output_type": "display_data",
          "data": {
            "text/plain": [
              "<Figure size 640x480 with 1 Axes>"
            ],
            "image/png": "[encoded data removed]"
          },
          "metadata": {}
        }
      ]
    },
    {
      "cell_type": "markdown",
      "metadata": {
        "id": "WbugMH6yKvtd"
      },
      "source": [
        "## Download the TFLite Model File\n",
        "\n",
        "If you are running this notebook in a Colab, you can run the cell below to download the tflite model to your local disk. \n",
        "\n",
        "**Note**: If the file does not download when you run the cell, try running the cell a second time."
      ]
    },
    {
      "cell_type": "code",
      "metadata": {
        "id": "FOAIMETeJmkc",
        "colab": {
          "base_uri": "https://localhost:8080/",
          "height": 17
        },
        "outputId": "b7fec5ae-db6c-4d93-d5f8-d4e4637a3dda"
      },
      "source": [
        "try:\n",
        "    from google.colab import files\n",
        "    files.download(tflite_model_file)\n",
        "except:\n",
        "    pass"
      ],
      "execution_count": 10,
      "outputs": [
        {
          "output_type": "display_data",
          "data": {
            "text/plain": [
              "<IPython.core.display.Javascript object>"
            ],
            "application/javascript": [
              "\n",
              "    async function download(id, filename, size) {\n",
              "      if (!google.colab.kernel.accessAllowed) {\n",
              "        return;\n",
              "      }\n",
              "      const div = document.createElement('div');\n",
              "      const label = document.createElement('label');\n",
              "      label.textContent = `Downloading \"${filename}\": `;\n",
              "      div.appendChild(label);\n",
              "      const progress = document.createElement('progress');\n",
              "      progress.max = size;\n",
              "      div.appendChild(progress);\n",
              "      document.body.appendChild(div);\n",
              "\n",
              "      const buffers = [];\n",
              "      let downloaded = 0;\n",
              "\n",
              "      const channel = await google.colab.kernel.comms.open(id);\n",
              "      // Send a message to notify the kernel that we're ready.\n",
              "      channel.send({})\n",
              "\n",
              "      for await (const message of channel.messages) {\n",
              "        // Send a message to notify the kernel that we're ready.\n",
              "        channel.send({})\n",
              "        if (message.buffers) {\n",
              "          for (const buffer of message.buffers) {\n",
              "            buffers.push(buffer);\n",
              "            downloaded += buffer.byteLength;\n",
              "            progress.value = downloaded;\n",
              "          }\n",
              "        }\n",
              "      }\n",
              "      const blob = new Blob(buffers, {type: 'application/binary'});\n",
              "      const a = document.createElement('a');\n",
              "      a.href = window.URL.createObjectURL(blob);\n",
              "      a.download = filename;\n",
              "      div.appendChild(a);\n",
              "      a.click();\n",
              "      div.remove();\n",
              "    }\n",
              "  "
            ]
          },
          "metadata": {}
        },
        {
          "output_type": "display_data",
          "data": {
            "text/plain": [
              "<IPython.core.display.Javascript object>"
            ],
            "application/javascript": [
              "download(\"download_43aa831a-2f67-46ca-806d-5f2eafeeacb0\", \"model.tflite\", 1080)"
            ]
          },
          "metadata": {}
        }
      ]
    }
  ]
}