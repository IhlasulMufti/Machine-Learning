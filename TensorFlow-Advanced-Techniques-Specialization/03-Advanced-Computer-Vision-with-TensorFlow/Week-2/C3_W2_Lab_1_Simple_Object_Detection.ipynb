{
  "nbformat": 4,
  "nbformat_minor": 0,
  "metadata": {
    "accelerator": "GPU",
    "colab": {
      "provenance": [],
      "gpuType": "T4"
    },
    "kernelspec": {
      "display_name": "Python 3",
      "name": "python3"
    },
    "language_info": {
      "codemirror_mode": {
        "name": "ipython",
        "version": 3
      },
      "file_extension": ".py",
      "mimetype": "text/x-python",
      "name": "python",
      "nbconvert_exporter": "python",
      "pygments_lexer": "ipython3",
      "version": "3.7.4"
    }
  },
  "cells": [
    {
      "cell_type": "markdown",
      "metadata": {
        "id": "mmANPR2jhCR6"
      },
      "source": [
        "# Simple Object Detection in Tensorflow\n",
        "\n",
        "This lab will walk you through how to use object detection models available in [Tensorflow Hub](https://www.tensorflow.org/hub). In the following sections, you will:\n",
        "\n",
        "* explore the Tensorflow Hub for object detection models\n",
        "* load the models in your workspace\n",
        "* preprocess an image for inference\n",
        "* run inference on the models and inspect the output\n",
        "\n",
        "Let's get started!"
      ]
    },
    {
      "cell_type": "markdown",
      "metadata": {
        "id": "8DkMLuGDhCR6"
      },
      "source": [
        "## Imports"
      ]
    },
    {
      "cell_type": "code",
      "metadata": {
        "id": "OEoRKdmByrb0"
      },
      "source": [
        "import tensorflow as tf\n",
        "import tensorflow_hub as hub\n",
        "from PIL import Image\n",
        "from PIL import ImageOps\n",
        "import tempfile\n",
        "from six.moves.urllib.request import urlopen\n",
        "from six import BytesIO"
      ],
      "execution_count": 1,
      "outputs": []
    },
    {
      "cell_type": "markdown",
      "metadata": {
        "id": "nb8MBgTOhCR6"
      },
      "source": [
        "### Download the model from Tensorflow Hub\n",
        "\n",
        "Tensorflow Hub is a repository of trained machine learning models which you can reuse in your own projects.\n",
        "- You can see the domains covered [here](https://tfhub.dev/) and its subcategories.\n",
        "- For this lab, you will want to look at the [image object detection subcategory](https://tfhub.dev/s?module-type=image-object-detection).\n",
        "- You can select a model to see more information about it and copy the URL so you can download it to your workspace.\n",
        "- We selected a [inception resnet version 2](https://tfhub.dev/google/faster_rcnn/openimages_v4/inception_resnet_v2/1)\n",
        "- You can also modify this following cell to choose the other model that we selected, [ssd mobilenet version 2](https://tfhub.dev/tensorflow/ssd_mobilenet_v2/2)"
      ]
    },
    {
      "cell_type": "code",
      "metadata": {
        "id": "C9pCzz4uy20U"
      },
      "source": [
        "# you can switch the commented lines here to pick the other model\n",
        "\n",
        "# inception resnet version 2\n",
        "module_handle = \"https://tfhub.dev/google/faster_rcnn/openimages_v4/inception_resnet_v2/1\"\n",
        "\n",
        "# You can choose ssd mobilenet version 2 instead and compare the results\n",
        "#module_handle = \"https://tfhub.dev/google/openimages_v4/ssd/mobilenet_v2/1\""
      ],
      "execution_count": 2,
      "outputs": []
    },
    {
      "cell_type": "markdown",
      "metadata": {
        "id": "W3trj5FbhCR6"
      },
      "source": [
        "#### Load the model\n",
        "\n",
        "Next, you'll load the model specified by the `module_handle`.\n",
        "- This will take a few minutes to load the model."
      ]
    },
    {
      "cell_type": "code",
      "metadata": {
        "id": "0WHkGDHfhCR6"
      },
      "source": [
        "model = hub.load(module_handle)"
      ],
      "execution_count": 3,
      "outputs": []
    },
    {
      "cell_type": "markdown",
      "metadata": {
        "id": "1Ey0FpHGhCR6"
      },
      "source": [
        "#### Choose the default signature\n",
        "\n",
        "Some models in the Tensorflow hub can be used for different tasks. So each model's documentation should show what *signature* to use when running the model.\n",
        "- If you want to see if a model has more than one signature then you can do something like `print(hub.load(module_handle).signatures.keys())`. In your case, the models you will be using only have the `default` signature so you don't have to worry about other types."
      ]
    },
    {
      "cell_type": "code",
      "metadata": {
        "id": "X1BU7AGthCR6",
        "colab": {
          "base_uri": "https://localhost:8080/"
        },
        "outputId": "48776445-5cf6-48d7-a7d7-bada0c0faefe"
      },
      "source": [
        "# take a look at the available signatures for this particular model\n",
        "model.signatures.keys()"
      ],
      "execution_count": 4,
      "outputs": [
        {
          "output_type": "execute_result",
          "data": {
            "text/plain": [
              "KeysView(_SignatureMap({'default': <ConcreteFunction pruned(images) at 0x7EC92F23C5E0>}))"
            ]
          },
          "metadata": {},
          "execution_count": 4
        }
      ]
    },
    {
      "cell_type": "markdown",
      "metadata": {
        "id": "nfc9ax9hhCR6"
      },
      "source": [
        "Please choose the 'default' signature for your object detector.\n",
        "- For object detection models, its 'default' signature will accept a batch of image tensors and output a dictionary describing the objects detected, which is what you'll want here."
      ]
    },
    {
      "cell_type": "code",
      "metadata": {
        "id": "pzwR5zE_hCR7"
      },
      "source": [
        "detector = model.signatures['default']"
      ],
      "execution_count": 5,
      "outputs": []
    },
    {
      "cell_type": "markdown",
      "metadata": {
        "id": "Wvb-3r3thCR7"
      },
      "source": [
        "### download_and_resize_image\n",
        "\n",
        "This function downloads an image specified by a given \"url\", pre-processes it, and then saves it to disk."
      ]
    },
    {
      "cell_type": "code",
      "metadata": {
        "id": "Ucsxak_qhCR7"
      },
      "source": [
        "def download_and_resize_image(url, new_width=256, new_height=256):\n",
        "    '''\n",
        "    Fetches an image online, resizes it and saves it locally.\n",
        "\n",
        "    Args:\n",
        "        url (string) -- link to the image\n",
        "        new_width (int) -- size in pixels used for resizing the width of the image\n",
        "        new_height (int) -- size in pixels used for resizing the length of the image\n",
        "\n",
        "    Returns:\n",
        "        (string) -- path to the saved image\n",
        "    '''\n",
        "\n",
        "\n",
        "    # create a temporary file ending with \".jpg\"\n",
        "    _, filename = tempfile.mkstemp(suffix=\".jpg\")\n",
        "\n",
        "    # opens the given URL\n",
        "    response = urlopen(url)\n",
        "\n",
        "    # reads the image fetched from the URL\n",
        "    image_data = response.read()\n",
        "\n",
        "    # puts the image data in memory buffer\n",
        "    image_data = BytesIO(image_data)\n",
        "\n",
        "    # opens the image\n",
        "    pil_image = Image.open(image_data)\n",
        "\n",
        "    # resizes the image. will crop if aspect ratio is different.\n",
        "    pil_image = ImageOps.fit(pil_image, (new_width, new_height), Image.ANTIALIAS)\n",
        "\n",
        "    # converts to the RGB colorspace\n",
        "    pil_image_rgb = pil_image.convert(\"RGB\")\n",
        "\n",
        "    # saves the image to the temporary file created earlier\n",
        "    pil_image_rgb.save(filename, format=\"JPEG\", quality=90)\n",
        "\n",
        "    print(\"Image downloaded to %s.\" % filename)\n",
        "\n",
        "    return filename"
      ],
      "execution_count": 6,
      "outputs": []
    },
    {
      "cell_type": "markdown",
      "metadata": {
        "id": "r7qodEJHhCR7"
      },
      "source": [
        "### Download and preprocess an image\n",
        "\n",
        "Now, using `download_and_resize_image` you can get a sample image online and save it locally.\n",
        "- We've provided a URL for you, but feel free to choose another image to run through the object detector.\n",
        "- You can use the original width and height of the image but feel free to modify it and see what results you get."
      ]
    },
    {
      "cell_type": "code",
      "metadata": {
        "id": "xHTDalVrhCR7",
        "colab": {
          "base_uri": "https://localhost:8080/"
        },
        "outputId": "0ba94f74-8818-4c38-a1af-1c78bed6a035"
      },
      "source": [
        "# You can choose a different URL that points to an image of your choice\n",
        "image_url = \"https://upload.wikimedia.org/wikipedia/commons/f/fb/20130807_dublin014.JPG\"\n",
        "\n",
        "# download the image and use the original height and width\n",
        "downloaded_image_path = download_and_resize_image(image_url, 3872, 2592)"
      ],
      "execution_count": 7,
      "outputs": [
        {
          "output_type": "stream",
          "name": "stdout",
          "text": [
            "Image downloaded to /tmp/tmpfvjrv60r.jpg.\n"
          ]
        },
        {
          "output_type": "stream",
          "name": "stderr",
          "text": [
            "<ipython-input-6-4e9bff65542d>:31: DeprecationWarning: ANTIALIAS is deprecated and will be removed in Pillow 10 (2023-07-01). Use LANCZOS or Resampling.LANCZOS instead.\n",
            "  pil_image = ImageOps.fit(pil_image, (new_width, new_height), Image.ANTIALIAS)\n"
          ]
        }
      ]
    },
    {
      "cell_type": "markdown",
      "metadata": {
        "id": "IVNXUKMIhCR7"
      },
      "source": [
        "### run_detector\n",
        "\n",
        "This function will take in the object detection model `detector` and the path to a sample image, then use this model to detect objects and display its predicted class categories and detection boxes.\n",
        "- run_detector uses `load_image` to convert the image into a tensor."
      ]
    },
    {
      "cell_type": "code",
      "metadata": {
        "id": "wkkiQzKlhCR7"
      },
      "source": [
        "def load_img(path):\n",
        "    '''\n",
        "    Loads a JPEG image and converts it to a tensor.\n",
        "\n",
        "    Args:\n",
        "        path (string) -- path to a locally saved JPEG image\n",
        "\n",
        "    Returns:\n",
        "        (tensor) -- an image tensor\n",
        "    '''\n",
        "\n",
        "    # read the file\n",
        "    img = tf.io.read_file(path)\n",
        "\n",
        "    # convert to a tensor\n",
        "    img = tf.image.decode_jpeg(img, channels=3)\n",
        "\n",
        "    return img\n",
        "\n",
        "\n",
        "def run_detector(detector, path):\n",
        "    '''\n",
        "    Runs inference on a local file using an object detection model.\n",
        "\n",
        "    Args:\n",
        "        detector (model) -- an object detection model loaded from TF Hub\n",
        "        path (string) -- path to an image saved locally\n",
        "    '''\n",
        "\n",
        "    # load an image tensor from a local file path\n",
        "    img = load_img(path)\n",
        "\n",
        "    # add a batch dimension in front of the tensor\n",
        "    converted_img  = tf.image.convert_image_dtype(img, tf.float32)[tf.newaxis, ...]\n",
        "\n",
        "    # run inference using the model\n",
        "    result = detector(converted_img)\n",
        "\n",
        "    # save the results in a dictionary\n",
        "    result = {key:value.numpy() for key,value in result.items()}\n",
        "\n",
        "    # print results\n",
        "    print(\"Found %d objects.\" % len(result[\"detection_scores\"]))\n",
        "\n",
        "    print(result[\"detection_scores\"])\n",
        "    print(result[\"detection_class_entities\"])\n",
        "    print(result[\"detection_boxes\"])\n"
      ],
      "execution_count": 8,
      "outputs": []
    },
    {
      "cell_type": "markdown",
      "metadata": {
        "id": "DSEeJSkxhCR7"
      },
      "source": [
        "### Run inference on the image\n",
        "\n",
        "You can run your detector by calling the `run_detector` function. This will print the number of objects found followed by three lists:\n",
        "\n",
        "* The detection scores of each object found (i.e. how confident the model is),\n",
        "* The classes of each object found,\n",
        "* The bounding boxes of each object\n",
        "\n",
        "You will see how to overlay this information on the original image in the next sections and in this week's assignment!"
      ]
    },
    {
      "cell_type": "code",
      "metadata": {
        "id": "csanHvDIz4_t",
        "colab": {
          "base_uri": "https://localhost:8080/"
        },
        "outputId": "a19c336c-7ea6-4662-ecfa-4d3505e77c3d"
      },
      "source": [
        "# runs the object detection model and prints information about the objects found\n",
        "run_detector(detector, downloaded_image_path)"
      ],
      "execution_count": 9,
      "outputs": [
        {
          "output_type": "stream",
          "name": "stdout",
          "text": [
            "Found 100 objects.\n",
            "[0.6544865  0.6114541  0.6042276  0.59263104 0.59219176 0.58049124\n",
            " 0.5514048  0.49466872 0.47515768 0.47342214 0.4399596  0.4148515\n",
            " 0.40629575 0.39828917 0.39765266 0.37621024 0.37279487 0.3657482\n",
            " 0.3526065  0.33274874 0.30428645 0.27276582 0.26865017 0.25777128\n",
            " 0.25290737 0.24612038 0.23403816 0.20342952 0.18229482 0.18045755\n",
            " 0.17571245 0.16435067 0.15850076 0.1566599  0.15470915 0.15452759\n",
            " 0.1492487  0.13340713 0.12948275 0.12649761 0.12044182 0.11767354\n",
            " 0.11356061 0.11114778 0.11100331 0.10914958 0.10604014 0.08940513\n",
            " 0.08598307 0.08280172 0.08104527 0.07806075 0.07760144 0.07628679\n",
            " 0.07546874 0.07444111 0.07427189 0.07204907 0.07177544 0.07102236\n",
            " 0.07032738 0.06809662 0.06304495 0.06285902 0.0627095  0.06223935\n",
            " 0.05882114 0.05814989 0.05795716 0.05787598 0.05462342 0.05274334\n",
            " 0.05133689 0.04826539 0.04708416 0.04682961 0.04495216 0.04405153\n",
            " 0.04360718 0.04113495 0.04109953 0.03968589 0.03934938 0.03912761\n",
            " 0.03879532 0.03878608 0.03739652 0.03606922 0.03367111 0.03366867\n",
            " 0.03260178 0.03253513 0.0320149  0.02983103 0.02878013 0.0286763\n",
            " 0.02803949 0.02783177 0.02734359 0.02668219]\n",
            "[b'Person' b'Person' b'Person' b'Person' b'Footwear' b'Person' b'Building'\n",
            " b'Bicycle' b'Building' b'Window' b'Person' b'Bicycle' b'Wheel'\n",
            " b'Building' b'Building' b'Building' b'Person' b'Wheel' b'Window'\n",
            " b'Window' b'Building' b'Person' b'Van' b'Person' b'Bicycle wheel'\n",
            " b'Person' b'Window' b'Window' b'Building' b'Window' b'Window' b'Man'\n",
            " b'Person' b'Woman' b'Person' b'Clothing' b'Bicycle wheel' b'Window'\n",
            " b'Person' b'Window' b'Land vehicle' b'Land vehicle' b'Clothing' b'Window'\n",
            " b'Bicycle' b'Land vehicle' b'House' b'House' b'Man' b'Window' b'Clothing'\n",
            " b'Window' b'Footwear' b'Person' b'Man' b'Man' b'House' b'Building'\n",
            " b'Person' b'Clothing' b'Window' b'Person' b'Man' b'Person' b'Furniture'\n",
            " b'Jeans' b'Person' b'Person' b'Person' b'Land vehicle' b'Window' b'House'\n",
            " b'Woman' b'Man' b'Window' b'Person' b'Person' b'Clothing' b'Man' b'Man'\n",
            " b'Window' b'Car' b'Person' b'Man' b'Chair' b'Car' b'House' b'Window'\n",
            " b'Tire' b'Clothing' b'Window' b'Clothing' b'Land vehicle' b'Window'\n",
            " b'Window' b'Man' b'Van' b'Bus' b'Clothing' b'Car']\n",
            "[[5.1279444e-01 5.2927095e-01 6.0166234e-01 5.5209446e-01]\n",
            " [5.1974601e-01 6.0150713e-01 6.4612418e-01 6.3468289e-01]\n",
            " [5.0574601e-01 5.0044078e-01 6.0134917e-01 5.2308965e-01]\n",
            " [4.8630875e-01 4.1276225e-01 6.7855036e-01 4.5990565e-01]\n",
            " [8.1519085e-01 9.5611840e-01 8.4270173e-01 9.8714471e-01]\n",
            " [4.9546641e-01 9.2353427e-01 8.3563489e-01 9.9905688e-01]\n",
            " [1.1098607e-02 1.1912091e-02 7.3975039e-01 4.2490730e-01]\n",
            " [5.7782596e-01 3.6645323e-01 7.1280575e-01 4.8333821e-01]\n",
            " [7.7493571e-02 4.1305405e-01 5.7945883e-01 5.6030917e-01]\n",
            " [0.0000000e+00 1.1929258e-01 2.2389720e-01 1.8394907e-01]\n",
            " [5.1406974e-01 7.4809784e-01 5.9196222e-01 7.6656920e-01]\n",
            " [5.7077783e-01 3.6182037e-01 7.0732838e-01 4.2966676e-01]\n",
            " [6.3209409e-01 3.5986990e-01 7.0384175e-01 4.1181558e-01]\n",
            " [1.5908586e-02 6.8496162e-01 5.5938888e-01 8.1114680e-01]\n",
            " [0.0000000e+00 7.9710943e-01 6.7373616e-01 1.0000000e+00]\n",
            " [0.0000000e+00 2.1702692e-01 6.5097326e-01 4.3200094e-01]\n",
            " [5.0037277e-01 3.7700447e-01 6.3335049e-01 4.1451439e-01]\n",
            " [6.4033997e-01 4.4502339e-01 7.0303476e-01 4.8345748e-01]\n",
            " [1.9440270e-03 0.0000000e+00 1.3933197e-01 2.6288426e-02]\n",
            " [2.5519053e-03 9.6662557e-01 1.5375265e-01 1.0000000e+00]\n",
            " [1.4154816e-03 1.4105014e-03 7.6484823e-01 2.6935190e-01]\n",
            " [5.0490111e-01 3.6078489e-01 6.3766336e-01 3.8548014e-01]\n",
            " [4.8338374e-01 6.1948413e-01 5.6265807e-01 6.6157210e-01]\n",
            " [4.9820140e-01 3.6461407e-01 6.6115755e-01 4.0489638e-01]\n",
            " [6.3122934e-01 3.6032289e-01 7.0414704e-01 4.1149938e-01]\n",
            " [5.2180678e-01 5.7769489e-01 5.8761311e-01 6.0071784e-01]\n",
            " [2.1960370e-01 3.4873888e-01 3.3825555e-01 3.7706766e-01]\n",
            " [1.2482675e-01 2.5092393e-01 2.7991477e-01 2.8162587e-01]\n",
            " [2.5731847e-01 5.6749362e-01 5.3091002e-01 6.8787652e-01]\n",
            " [4.2175364e-02 8.7476528e-01 2.5286338e-01 9.1304618e-01]\n",
            " [1.5640162e-01 4.4336551e-01 2.2223382e-01 4.7578454e-01]\n",
            " [5.0199443e-01 9.2146742e-01 8.3636171e-01 1.0000000e+00]\n",
            " [5.2367359e-01 5.7034701e-01 5.8450609e-01 5.9160703e-01]\n",
            " [5.1916909e-01 5.9996605e-01 6.4633018e-01 6.3409466e-01]\n",
            " [5.1315480e-01 6.7922854e-01 5.5098128e-01 6.9254810e-01]\n",
            " [5.2434462e-01 9.2494547e-01 8.1052816e-01 9.9797946e-01]\n",
            " [6.3806325e-01 4.4279727e-01 7.0172906e-01 4.8413196e-01]\n",
            " [3.4105550e-02 3.5565761e-01 1.6230489e-01 3.7490875e-01]\n",
            " [4.8809028e-01 4.5336694e-01 6.2225717e-01 4.7966492e-01]\n",
            " [9.6649490e-04 3.0770731e-01 1.0651586e-01 3.3207035e-01]\n",
            " [4.8297009e-01 6.1979163e-01 5.6477898e-01 6.6065258e-01]\n",
            " [5.8239114e-01 3.6492342e-01 7.1389163e-01 4.8468536e-01]\n",
            " [5.2379000e-01 7.4929273e-01 5.8547032e-01 7.6531148e-01]\n",
            " [3.5146433e-01 9.7486877e-01 5.5304360e-01 9.9888706e-01]\n",
            " [6.0907686e-01 4.2683351e-01 7.0519632e-01 4.8710752e-01]\n",
            " [5.6925470e-01 3.5978302e-01 7.0856631e-01 4.2843863e-01]\n",
            " [0.0000000e+00 8.1118739e-01 6.9358289e-01 9.9325359e-01]\n",
            " [1.0429535e-02 2.2947056e-02 7.2731245e-01 4.2228755e-01]\n",
            " [4.8463228e-01 4.1069776e-01 6.9474274e-01 4.6313995e-01]\n",
            " [8.1154473e-02 3.8477594e-01 2.0795214e-01 4.1175538e-01]\n",
            " [5.3856730e-01 6.0358500e-01 6.3474083e-01 6.3447654e-01]\n",
            " [0.0000000e+00 1.2407589e-02 1.4029646e-01 2.4734123e-02]\n",
            " [6.2977993e-01 6.1488330e-01 6.4490789e-01 6.2533492e-01]\n",
            " [5.0284290e-01 3.8242072e-01 5.9601641e-01 4.1271874e-01]\n",
            " [5.1468146e-01 7.4787104e-01 5.9194779e-01 7.6678252e-01]\n",
            " [5.0643325e-01 5.0040269e-01 6.0071695e-01 5.2331972e-01]\n",
            " [0.0000000e+00 2.1112858e-01 6.5082586e-01 4.3438429e-01]\n",
            " [0.0000000e+00 7.0632064e-01 6.1716139e-01 8.6594027e-01]\n",
            " [4.8929819e-01 4.5427489e-01 5.7262027e-01 4.7639754e-01]\n",
            " [5.0920737e-01 4.1626489e-01 6.6901666e-01 4.5957711e-01]\n",
            " [4.6780268e-03 8.0310702e-01 1.5958230e-01 8.4036517e-01]\n",
            " [5.2617568e-01 5.6837583e-01 5.7943624e-01 5.8280307e-01]\n",
            " [5.0284761e-01 3.7398592e-01 6.4712596e-01 4.1297260e-01]\n",
            " [4.8591757e-01 4.4443721e-01 6.2469018e-01 4.7351980e-01]\n",
            " [5.7416862e-01 2.6725131e-01 6.5776157e-01 3.2031399e-01]\n",
            " [6.7198235e-01 9.4031775e-01 8.2117718e-01 9.8921400e-01]\n",
            " [5.2410471e-01 5.6155598e-01 5.7834709e-01 5.8050251e-01]\n",
            " [5.1758975e-01 7.5722069e-01 5.8831394e-01 7.7154583e-01]\n",
            " [5.2332854e-01 5.5781382e-01 5.7902890e-01 5.7355350e-01]\n",
            " [6.1236000e-01 4.2740157e-01 7.0609623e-01 4.8830026e-01]\n",
            " [0.0000000e+00 2.4423711e-01 6.0888782e-02 2.9377386e-01]\n",
            " [1.5484391e-02 1.9419279e-03 7.4516338e-01 2.5933647e-01]\n",
            " [4.9326640e-01 9.2395955e-01 8.3691317e-01 9.9770677e-01]\n",
            " [5.0529295e-01 3.6016640e-01 6.4336246e-01 3.9143845e-01]\n",
            " [8.4342295e-03 2.4212143e-01 4.9744949e-02 2.8314558e-01]\n",
            " [5.2210915e-01 5.3608811e-01 5.9767485e-01 5.5313319e-01]\n",
            " [5.1312602e-01 5.2381009e-01 6.0054040e-01 5.4296505e-01]\n",
            " [5.1831567e-01 5.0345343e-01 5.9754533e-01 5.2275288e-01]\n",
            " [5.2045572e-01 6.0093164e-01 6.4599109e-01 6.3436383e-01]\n",
            " [5.1316828e-01 6.7925382e-01 5.5048609e-01 6.9244283e-01]\n",
            " [4.2972320e-01 8.2874352e-01 5.9004873e-01 8.6437547e-01]\n",
            " [5.2659333e-01 6.2719083e-01 5.6328988e-01 6.5378499e-01]\n",
            " [5.0478107e-01 3.8941067e-01 6.1523116e-01 4.1995162e-01]\n",
            " [5.0132489e-01 3.6423624e-01 6.5975285e-01 4.0371999e-01]\n",
            " [5.7311022e-01 2.6673263e-01 6.6622353e-01 3.1864992e-01]\n",
            " [5.1510340e-01 6.2409180e-01 5.6383228e-01 6.5803182e-01]\n",
            " [8.3203174e-02 4.0756792e-01 5.8434409e-01 5.5831051e-01]\n",
            " [2.8820190e-01 4.6255122e-04 4.1427991e-01 3.6707684e-02]\n",
            " [6.2713271e-01 3.6099502e-01 7.0596063e-01 4.0978044e-01]\n",
            " [4.9715942e-01 4.5521107e-01 5.8427125e-01 4.7787207e-01]\n",
            " [1.1719434e-02 3.0807254e-01 9.7320035e-02 3.2507548e-01]\n",
            " [5.1589394e-01 3.8009039e-01 5.9697241e-01 4.1176715e-01]\n",
            " [5.1242912e-01 6.2364930e-01 5.6243664e-01 6.5768224e-01]\n",
            " [4.0077376e-01 8.8497424e-01 5.8165652e-01 9.3913031e-01]\n",
            " [0.0000000e+00 9.9475868e-03 1.3625400e-01 3.1597443e-02]\n",
            " [5.1390564e-01 5.2950239e-01 6.0205597e-01 5.5237609e-01]\n",
            " [5.1069164e-01 6.2403965e-01 5.6341004e-01 6.5817988e-01]\n",
            " [4.8037991e-01 6.2032777e-01 5.6528419e-01 6.6012335e-01]\n",
            " [5.3840739e-01 9.2802435e-01 7.1361738e-01 9.9945277e-01]\n",
            " [4.8633781e-01 6.2024730e-01 5.6352878e-01 6.6021770e-01]]\n"
          ]
        }
      ]
    }
  ]
}